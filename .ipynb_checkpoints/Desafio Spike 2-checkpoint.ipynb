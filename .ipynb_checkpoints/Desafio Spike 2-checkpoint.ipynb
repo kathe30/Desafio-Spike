{
 "cells": [
  {
   "cell_type": "code",
   "execution_count": 74,
   "metadata": {},
   "outputs": [],
   "source": [
    "import pandas as pd\n",
    "import numpy as np\n",
    "import matplotlib.pyplot as plt\n",
    "import seaborn as sns"
   ]
  },
  {
   "cell_type": "markdown",
   "metadata": {},
   "source": [
    "## Costos marginales"
   ]
  },
  {
   "cell_type": "code",
   "execution_count": 39,
   "metadata": {},
   "outputs": [],
   "source": [
    "#Datos de los costos marginales reales observados\n",
    "df_cm=pd.read_csv(\"costo_marginal_real.csv\")\n",
    "\n",
    "#Datos de los costos marginales reales observados\n",
    "df_cp=pd.read_csv(\"costo_marginal_programado.csv\")"
   ]
  },
  {
   "cell_type": "code",
   "execution_count": 40,
   "metadata": {},
   "outputs": [
    {
     "data": {
      "text/html": [
       "<div>\n",
       "<style scoped>\n",
       "    .dataframe tbody tr th:only-of-type {\n",
       "        vertical-align: middle;\n",
       "    }\n",
       "\n",
       "    .dataframe tbody tr th {\n",
       "        vertical-align: top;\n",
       "    }\n",
       "\n",
       "    .dataframe thead th {\n",
       "        text-align: right;\n",
       "    }\n",
       "</style>\n",
       "<table border=\"1\" class=\"dataframe\">\n",
       "  <thead>\n",
       "    <tr style=\"text-align: right;\">\n",
       "      <th></th>\n",
       "      <th>barra_mnemotecnico</th>\n",
       "      <th>barra_referencia_mnemotecnico</th>\n",
       "      <th>fecha</th>\n",
       "      <th>hora</th>\n",
       "      <th>costo_en_dolares</th>\n",
       "      <th>costo_en_pesos</th>\n",
       "      <th>nombre</th>\n",
       "    </tr>\n",
       "  </thead>\n",
       "  <tbody>\n",
       "    <tr>\n",
       "      <th>0</th>\n",
       "      <td>BA01T005SE075T005</td>\n",
       "      <td>BA02T002SE032T002</td>\n",
       "      <td>2019-04-06</td>\n",
       "      <td>25</td>\n",
       "      <td>62.24</td>\n",
       "      <td>41.47176</td>\n",
       "      <td>BA S/E LORETO 15KV</td>\n",
       "    </tr>\n",
       "    <tr>\n",
       "      <th>1</th>\n",
       "      <td>BA01T005SE175T005</td>\n",
       "      <td>BA02T002SE032T002</td>\n",
       "      <td>2019-04-06</td>\n",
       "      <td>25</td>\n",
       "      <td>62.56</td>\n",
       "      <td>41.68498</td>\n",
       "      <td>BA S/E RETIRO 13.2KV</td>\n",
       "    </tr>\n",
       "    <tr>\n",
       "      <th>2</th>\n",
       "      <td>BA03R002SE002R002</td>\n",
       "      <td>BA02T002SE032T002</td>\n",
       "      <td>2019-04-06</td>\n",
       "      <td>25</td>\n",
       "      <td>60.04</td>\n",
       "      <td>40.00585</td>\n",
       "      <td>BA S/E ALTAMIRANO 12.5KV BP1</td>\n",
       "    </tr>\n",
       "    <tr>\n",
       "      <th>3</th>\n",
       "      <td>BA01R002SE012R002</td>\n",
       "      <td>BA02T002SE032T002</td>\n",
       "      <td>2019-04-06</td>\n",
       "      <td>25</td>\n",
       "      <td>61.65</td>\n",
       "      <td>41.07863</td>\n",
       "      <td>BA S/E CURACAVI 44KV B1</td>\n",
       "    </tr>\n",
       "    <tr>\n",
       "      <th>4</th>\n",
       "      <td>BA03R002SE013R002</td>\n",
       "      <td>BA02T002SE032T002</td>\n",
       "      <td>2019-04-06</td>\n",
       "      <td>25</td>\n",
       "      <td>59.55</td>\n",
       "      <td>39.67936</td>\n",
       "      <td>BA S/E EL MANZANO (ENEL DISTRIBUCIÓN) 23KV BP1</td>\n",
       "    </tr>\n",
       "  </tbody>\n",
       "</table>\n",
       "</div>"
      ],
      "text/plain": [
       "  barra_mnemotecnico barra_referencia_mnemotecnico       fecha  hora  \\\n",
       "0  BA01T005SE075T005             BA02T002SE032T002  2019-04-06    25   \n",
       "1  BA01T005SE175T005             BA02T002SE032T002  2019-04-06    25   \n",
       "2  BA03R002SE002R002             BA02T002SE032T002  2019-04-06    25   \n",
       "3  BA01R002SE012R002             BA02T002SE032T002  2019-04-06    25   \n",
       "4  BA03R002SE013R002             BA02T002SE032T002  2019-04-06    25   \n",
       "\n",
       "   costo_en_dolares  costo_en_pesos  \\\n",
       "0             62.24        41.47176   \n",
       "1             62.56        41.68498   \n",
       "2             60.04        40.00585   \n",
       "3             61.65        41.07863   \n",
       "4             59.55        39.67936   \n",
       "\n",
       "                                           nombre  \n",
       "0                              BA S/E LORETO 15KV  \n",
       "1                            BA S/E RETIRO 13.2KV  \n",
       "2                    BA S/E ALTAMIRANO 12.5KV BP1  \n",
       "3                         BA S/E CURACAVI 44KV B1  \n",
       "4  BA S/E EL MANZANO (ENEL DISTRIBUCIÓN) 23KV BP1  "
      ]
     },
     "execution_count": 40,
     "metadata": {},
     "output_type": "execute_result"
    }
   ],
   "source": [
    "df_cm.head()"
   ]
  },
  {
   "cell_type": "code",
   "execution_count": 41,
   "metadata": {},
   "outputs": [
    {
     "data": {
      "text/html": [
       "<div>\n",
       "<style scoped>\n",
       "    .dataframe tbody tr th:only-of-type {\n",
       "        vertical-align: middle;\n",
       "    }\n",
       "\n",
       "    .dataframe tbody tr th {\n",
       "        vertical-align: top;\n",
       "    }\n",
       "\n",
       "    .dataframe thead th {\n",
       "        text-align: right;\n",
       "    }\n",
       "</style>\n",
       "<table border=\"1\" class=\"dataframe\">\n",
       "  <thead>\n",
       "    <tr style=\"text-align: right;\">\n",
       "      <th></th>\n",
       "      <th>mnemotecnico_barra</th>\n",
       "      <th>nombre_barra</th>\n",
       "      <th>fecha</th>\n",
       "      <th>hora</th>\n",
       "      <th>costo</th>\n",
       "    </tr>\n",
       "  </thead>\n",
       "  <tbody>\n",
       "    <tr>\n",
       "      <th>0</th>\n",
       "      <td>BA01T002SE002T002</td>\n",
       "      <td>BA S/E ALTO JAHUEL 110KV SECCION 1</td>\n",
       "      <td>2019-01-01</td>\n",
       "      <td>1</td>\n",
       "      <td>49.897334</td>\n",
       "    </tr>\n",
       "    <tr>\n",
       "      <th>1</th>\n",
       "      <td>BA01T002SE002T002</td>\n",
       "      <td>BA S/E ALTO JAHUEL 110KV SECCION 1</td>\n",
       "      <td>2019-01-01</td>\n",
       "      <td>2</td>\n",
       "      <td>50.471616</td>\n",
       "    </tr>\n",
       "    <tr>\n",
       "      <th>2</th>\n",
       "      <td>BA01T002SE002T002</td>\n",
       "      <td>BA S/E ALTO JAHUEL 110KV SECCION 1</td>\n",
       "      <td>2019-01-01</td>\n",
       "      <td>3</td>\n",
       "      <td>50.077821</td>\n",
       "    </tr>\n",
       "    <tr>\n",
       "      <th>3</th>\n",
       "      <td>BA01T002SE002T002</td>\n",
       "      <td>BA S/E ALTO JAHUEL 110KV SECCION 1</td>\n",
       "      <td>2019-01-01</td>\n",
       "      <td>4</td>\n",
       "      <td>49.796216</td>\n",
       "    </tr>\n",
       "    <tr>\n",
       "      <th>4</th>\n",
       "      <td>BA01T002SE002T002</td>\n",
       "      <td>BA S/E ALTO JAHUEL 110KV SECCION 1</td>\n",
       "      <td>2019-01-01</td>\n",
       "      <td>5</td>\n",
       "      <td>49.796216</td>\n",
       "    </tr>\n",
       "  </tbody>\n",
       "</table>\n",
       "</div>"
      ],
      "text/plain": [
       "  mnemotecnico_barra                        nombre_barra       fecha  hora  \\\n",
       "0  BA01T002SE002T002  BA S/E ALTO JAHUEL 110KV SECCION 1  2019-01-01     1   \n",
       "1  BA01T002SE002T002  BA S/E ALTO JAHUEL 110KV SECCION 1  2019-01-01     2   \n",
       "2  BA01T002SE002T002  BA S/E ALTO JAHUEL 110KV SECCION 1  2019-01-01     3   \n",
       "3  BA01T002SE002T002  BA S/E ALTO JAHUEL 110KV SECCION 1  2019-01-01     4   \n",
       "4  BA01T002SE002T002  BA S/E ALTO JAHUEL 110KV SECCION 1  2019-01-01     5   \n",
       "\n",
       "       costo  \n",
       "0  49.897334  \n",
       "1  50.471616  \n",
       "2  50.077821  \n",
       "3  49.796216  \n",
       "4  49.796216  "
      ]
     },
     "execution_count": 41,
     "metadata": {},
     "output_type": "execute_result"
    }
   ],
   "source": [
    "df_cp.head()"
   ]
  },
  {
   "cell_type": "code",
   "execution_count": 42,
   "metadata": {},
   "outputs": [],
   "source": [
    "#Se modifica el nombre de la primera columna de df_cost_prog, y se pasa la lista\n",
    "#con todos los nombres, para poder realizar el marge\n",
    "\n",
    "df_cp.columns= ['barra_mnemotecnico', 'nombre_barra', 'fecha', 'hora', 'costo']"
   ]
  },
  {
   "cell_type": "code",
   "execution_count": 44,
   "metadata": {},
   "outputs": [],
   "source": [
    "costo_marginal=pd.merge(df_cm,df_cp,on=['barra_mnemotecnico', 'fecha', 'hora'])"
   ]
  },
  {
   "cell_type": "code",
   "execution_count": 45,
   "metadata": {},
   "outputs": [],
   "source": [
    "#Para realizar el merge tome en cuenta la fecha y la hora tambien, para no tener, filas\n",
    "# no tener filas que tengan la misma barra pero con horas y fechas distintas"
   ]
  },
  {
   "cell_type": "code",
   "execution_count": 80,
   "metadata": {},
   "outputs": [
    {
     "data": {
      "text/html": [
       "<div>\n",
       "<style scoped>\n",
       "    .dataframe tbody tr th:only-of-type {\n",
       "        vertical-align: middle;\n",
       "    }\n",
       "\n",
       "    .dataframe tbody tr th {\n",
       "        vertical-align: top;\n",
       "    }\n",
       "\n",
       "    .dataframe thead th {\n",
       "        text-align: right;\n",
       "    }\n",
       "</style>\n",
       "<table border=\"1\" class=\"dataframe\">\n",
       "  <thead>\n",
       "    <tr style=\"text-align: right;\">\n",
       "      <th></th>\n",
       "      <th>barra_mnemotecnico</th>\n",
       "      <th>barra_referencia_mnemotecnico</th>\n",
       "      <th>fecha</th>\n",
       "      <th>hora</th>\n",
       "      <th>costo_en_dolares</th>\n",
       "      <th>costo_en_pesos</th>\n",
       "      <th>nombre</th>\n",
       "      <th>nombre_barra</th>\n",
       "      <th>costo</th>\n",
       "      <th>desviacion</th>\n",
       "      <th>desviacion_pct</th>\n",
       "      <th>desviacion_cat</th>\n",
       "    </tr>\n",
       "  </thead>\n",
       "  <tbody>\n",
       "    <tr>\n",
       "      <th>0</th>\n",
       "      <td>BA01G021SE018G021</td>\n",
       "      <td>BA02T002SE032T002</td>\n",
       "      <td>2019-04-06</td>\n",
       "      <td>25</td>\n",
       "      <td>58.02</td>\n",
       "      <td>38.65989</td>\n",
       "      <td>BA S/E CENTRAL QUINTERO 220KV</td>\n",
       "      <td>BA S/E CENTRAL QUINTERO 220KV</td>\n",
       "      <td>54.292145</td>\n",
       "      <td>3.727855</td>\n",
       "      <td>6.425121</td>\n",
       "      <td>0</td>\n",
       "    </tr>\n",
       "    <tr>\n",
       "      <th>1</th>\n",
       "      <td>BA01T018SE001T018</td>\n",
       "      <td>BA02T002SE032T002</td>\n",
       "      <td>2019-04-06</td>\n",
       "      <td>25</td>\n",
       "      <td>63.60</td>\n",
       "      <td>42.37795</td>\n",
       "      <td>BA S/E NUEVA PICHIRROPULLI 220KV B1</td>\n",
       "      <td>BA S/E NUEVA PICHIRROPULLI 220KV B1</td>\n",
       "      <td>60.620648</td>\n",
       "      <td>2.979352</td>\n",
       "      <td>4.684516</td>\n",
       "      <td>0</td>\n",
       "    </tr>\n",
       "    <tr>\n",
       "      <th>2</th>\n",
       "      <td>BA02T005SE055T005</td>\n",
       "      <td>BA02T002SE032T002</td>\n",
       "      <td>2019-04-06</td>\n",
       "      <td>25</td>\n",
       "      <td>62.78</td>\n",
       "      <td>41.83157</td>\n",
       "      <td>BA S/E SAN FRANCISCO DE MOSTAZAL 66KV T1</td>\n",
       "      <td>BA S/E SAN FRANCISCO DE MOSTAZAL 66KV T1</td>\n",
       "      <td>59.177969</td>\n",
       "      <td>3.602031</td>\n",
       "      <td>5.737545</td>\n",
       "      <td>0</td>\n",
       "    </tr>\n",
       "    <tr>\n",
       "      <th>3</th>\n",
       "      <td>BA01T002SE029T002</td>\n",
       "      <td>BA02T002SE032T002</td>\n",
       "      <td>2019-04-06</td>\n",
       "      <td>25</td>\n",
       "      <td>58.55</td>\n",
       "      <td>39.01304</td>\n",
       "      <td>BA S/E CENTRAL PEHUENCHE 220KV B1</td>\n",
       "      <td>BA S/E CENTRAL PEHUENCHE 220KV B1</td>\n",
       "      <td>54.566605</td>\n",
       "      <td>3.983395</td>\n",
       "      <td>6.803407</td>\n",
       "      <td>0</td>\n",
       "    </tr>\n",
       "    <tr>\n",
       "      <th>4</th>\n",
       "      <td>BA01R002SE041R002</td>\n",
       "      <td>BA02T002SE032T002</td>\n",
       "      <td>2019-04-06</td>\n",
       "      <td>25</td>\n",
       "      <td>60.39</td>\n",
       "      <td>40.23906</td>\n",
       "      <td>BA S/E SAN CRISTOBAL 110KV B1</td>\n",
       "      <td>BA S/E SAN CRISTOBAL 110KV B1</td>\n",
       "      <td>56.086260</td>\n",
       "      <td>4.303740</td>\n",
       "      <td>7.126576</td>\n",
       "      <td>0</td>\n",
       "    </tr>\n",
       "  </tbody>\n",
       "</table>\n",
       "</div>"
      ],
      "text/plain": [
       "  barra_mnemotecnico barra_referencia_mnemotecnico       fecha  hora  \\\n",
       "0  BA01G021SE018G021             BA02T002SE032T002  2019-04-06    25   \n",
       "1  BA01T018SE001T018             BA02T002SE032T002  2019-04-06    25   \n",
       "2  BA02T005SE055T005             BA02T002SE032T002  2019-04-06    25   \n",
       "3  BA01T002SE029T002             BA02T002SE032T002  2019-04-06    25   \n",
       "4  BA01R002SE041R002             BA02T002SE032T002  2019-04-06    25   \n",
       "\n",
       "   costo_en_dolares  costo_en_pesos                                    nombre  \\\n",
       "0             58.02        38.65989             BA S/E CENTRAL QUINTERO 220KV   \n",
       "1             63.60        42.37795       BA S/E NUEVA PICHIRROPULLI 220KV B1   \n",
       "2             62.78        41.83157  BA S/E SAN FRANCISCO DE MOSTAZAL 66KV T1   \n",
       "3             58.55        39.01304         BA S/E CENTRAL PEHUENCHE 220KV B1   \n",
       "4             60.39        40.23906             BA S/E SAN CRISTOBAL 110KV B1   \n",
       "\n",
       "                               nombre_barra      costo  desviacion  \\\n",
       "0             BA S/E CENTRAL QUINTERO 220KV  54.292145    3.727855   \n",
       "1       BA S/E NUEVA PICHIRROPULLI 220KV B1  60.620648    2.979352   \n",
       "2  BA S/E SAN FRANCISCO DE MOSTAZAL 66KV T1  59.177969    3.602031   \n",
       "3         BA S/E CENTRAL PEHUENCHE 220KV B1  54.566605    3.983395   \n",
       "4             BA S/E SAN CRISTOBAL 110KV B1  56.086260    4.303740   \n",
       "\n",
       "   desviacion_pct  desviacion_cat  \n",
       "0        6.425121               0  \n",
       "1        4.684516               0  \n",
       "2        5.737545               0  \n",
       "3        6.803407               0  \n",
       "4        7.126576               0  "
      ]
     },
     "execution_count": 80,
     "metadata": {},
     "output_type": "execute_result"
    }
   ],
   "source": [
    "costo_marginal.head()"
   ]
  },
  {
   "cell_type": "code",
   "execution_count": 24,
   "metadata": {},
   "outputs": [
    {
     "data": {
      "text/html": [
       "<div>\n",
       "<style scoped>\n",
       "    .dataframe tbody tr th:only-of-type {\n",
       "        vertical-align: middle;\n",
       "    }\n",
       "\n",
       "    .dataframe tbody tr th {\n",
       "        vertical-align: top;\n",
       "    }\n",
       "\n",
       "    .dataframe thead th {\n",
       "        text-align: right;\n",
       "    }\n",
       "</style>\n",
       "<table border=\"1\" class=\"dataframe\">\n",
       "  <thead>\n",
       "    <tr style=\"text-align: right;\">\n",
       "      <th></th>\n",
       "      <th>hora</th>\n",
       "      <th>costo_en_dolares</th>\n",
       "      <th>costo_en_pesos</th>\n",
       "      <th>costo</th>\n",
       "    </tr>\n",
       "  </thead>\n",
       "  <tbody>\n",
       "    <tr>\n",
       "      <th>count</th>\n",
       "      <td>913388.000000</td>\n",
       "      <td>913388.000000</td>\n",
       "      <td>913388.000000</td>\n",
       "      <td>913388.000000</td>\n",
       "    </tr>\n",
       "    <tr>\n",
       "      <th>mean</th>\n",
       "      <td>12.502901</td>\n",
       "      <td>58.566654</td>\n",
       "      <td>39.512227</td>\n",
       "      <td>61.888004</td>\n",
       "    </tr>\n",
       "    <tr>\n",
       "      <th>std</th>\n",
       "      <td>6.924006</td>\n",
       "      <td>23.276453</td>\n",
       "      <td>15.555780</td>\n",
       "      <td>23.806896</td>\n",
       "    </tr>\n",
       "    <tr>\n",
       "      <th>min</th>\n",
       "      <td>1.000000</td>\n",
       "      <td>0.000000</td>\n",
       "      <td>0.000000</td>\n",
       "      <td>-12.113677</td>\n",
       "    </tr>\n",
       "    <tr>\n",
       "      <th>25%</th>\n",
       "      <td>7.000000</td>\n",
       "      <td>48.440000</td>\n",
       "      <td>32.559880</td>\n",
       "      <td>49.981588</td>\n",
       "    </tr>\n",
       "    <tr>\n",
       "      <th>50%</th>\n",
       "      <td>13.000000</td>\n",
       "      <td>53.330000</td>\n",
       "      <td>35.965290</td>\n",
       "      <td>55.057527</td>\n",
       "    </tr>\n",
       "    <tr>\n",
       "      <th>75%</th>\n",
       "      <td>19.000000</td>\n",
       "      <td>60.890000</td>\n",
       "      <td>41.258260</td>\n",
       "      <td>64.181228</td>\n",
       "    </tr>\n",
       "    <tr>\n",
       "      <th>max</th>\n",
       "      <td>25.000000</td>\n",
       "      <td>791.140000</td>\n",
       "      <td>523.418220</td>\n",
       "      <td>610.600000</td>\n",
       "    </tr>\n",
       "  </tbody>\n",
       "</table>\n",
       "</div>"
      ],
      "text/plain": [
       "                hora  costo_en_dolares  costo_en_pesos          costo\n",
       "count  913388.000000     913388.000000   913388.000000  913388.000000\n",
       "mean       12.502901         58.566654       39.512227      61.888004\n",
       "std         6.924006         23.276453       15.555780      23.806896\n",
       "min         1.000000          0.000000        0.000000     -12.113677\n",
       "25%         7.000000         48.440000       32.559880      49.981588\n",
       "50%        13.000000         53.330000       35.965290      55.057527\n",
       "75%        19.000000         60.890000       41.258260      64.181228\n",
       "max        25.000000        791.140000      523.418220     610.600000"
      ]
     },
     "execution_count": 24,
     "metadata": {},
     "output_type": "execute_result"
    }
   ],
   "source": [
    "costo_marginal.describe()"
   ]
  },
  {
   "cell_type": "code",
   "execution_count": 60,
   "metadata": {},
   "outputs": [
    {
     "data": {
      "text/plain": [
       "<AxesSubplot:xlabel='costo_en_dolares'>"
      ]
     },
     "execution_count": 60,
     "metadata": {},
     "output_type": "execute_result"
    },
    {
     "data": {
      "image/png": "[encoded data removed]",
      "text/plain": [
       "<Figure size 864x432 with 1 Axes>"
      ]
     },
     "metadata": {
      "needs_background": "light"
     },
     "output_type": "display_data"
    }
   ],
   "source": [
    "plt.figure(figsize=(12,6))\n",
    "sns.boxplot(x=costo_marginal[\"costo_en_dolares\"], linewidth=2)"
   ]
  },
  {
   "cell_type": "code",
   "execution_count": 61,
   "metadata": {},
   "outputs": [
    {
     "data": {
      "text/plain": [
       "<AxesSubplot:xlabel='costo'>"
      ]
     },
     "execution_count": 61,
     "metadata": {},
     "output_type": "execute_result"
    },
    {
     "data": {
      "image/png": "[encoded data removed]",
      "text/plain": [
       "<Figure size 864x432 with 1 Axes>"
      ]
     },
     "metadata": {
      "needs_background": "light"
     },
     "output_type": "display_data"
    }
   ],
   "source": [
    "plt.figure(figsize=(12,6))\n",
    "sns.boxplot(x=costo_marginal[\"costo\"], linewidth=2)"
   ]
  },
  {
   "cell_type": "code",
   "execution_count": 27,
   "metadata": {},
   "outputs": [
    {
     "data": {
      "text/plain": [
       "(array([2.36274e+05, 6.41595e+05, 2.74710e+04, 7.86600e+03, 7.50000e+01,\n",
       "        4.40000e+01, 1.10000e+01, 1.00000e+00, 1.00000e+00, 5.00000e+01]),\n",
       " array([-12.11367675,  50.15769092, 112.4290586 , 174.70042628,\n",
       "        236.97179395, 299.24316162, 361.5145293 , 423.78589697,\n",
       "        486.05726465, 548.32863233, 610.6       ]),\n",
       " <BarContainer object of 10 artists>)"
      ]
     },
     "execution_count": 27,
     "metadata": {},
     "output_type": "execute_result"
    },
    {
     "data": {
      "image/png": "[encoded data removed]",
      "text/plain": [
       "<Figure size 432x288 with 1 Axes>"
      ]
     },
     "metadata": {
      "needs_background": "light"
     },
     "output_type": "display_data"
    }
   ],
   "source": [
    "plt.hist(costo_marginal['costo'])"
   ]
  },
  {
   "cell_type": "code",
   "execution_count": 49,
   "metadata": {},
   "outputs": [
    {
     "data": {
      "text/plain": [
       "(array([8.07629e+05, 9.50480e+04, 1.06570e+04, 4.20000e+01, 0.00000e+00,\n",
       "        2.00000e+00, 2.00000e+00, 0.00000e+00, 0.00000e+00, 8.00000e+00]),\n",
       " array([  0.   ,  79.114, 158.228, 237.342, 316.456, 395.57 , 474.684,\n",
       "        553.798, 632.912, 712.026, 791.14 ]),\n",
       " <BarContainer object of 10 artists>)"
      ]
     },
     "execution_count": 49,
     "metadata": {},
     "output_type": "execute_result"
    },
    {
     "data": {
      "image/png": "[encoded data removed]",
      "text/plain": [
       "<Figure size 432x288 with 1 Axes>"
      ]
     },
     "metadata": {
      "needs_background": "light"
     },
     "output_type": "display_data"
    }
   ],
   "source": [
    "plt.hist(costo_marginal['costo_en_dolares'])"
   ]
  },
  {
   "cell_type": "code",
   "execution_count": 91,
   "metadata": {},
   "outputs": [
    {
     "data": {
      "text/plain": [
       "181"
      ]
     },
     "execution_count": 91,
     "metadata": {},
     "output_type": "execute_result"
    }
   ],
   "source": [
    "#pd.crosstab(costo_marginal.hora,costo_marginal.costo).plot(kind='bar')\n",
    "len(costo_marginal['fecha'].unique())"
   ]
  },
  {
   "cell_type": "code",
   "execution_count": 94,
   "metadata": {},
   "outputs": [],
   "source": [
    "#pd.crosstab(costo_marginal.fecha,costo_marginal.desviacion_cat).plot(kind='bar')"
   ]
  },
  {
   "cell_type": "code",
   "execution_count": 95,
   "metadata": {},
   "outputs": [
    {
     "data": {
      "text/html": [
       "<div>\n",
       "<style scoped>\n",
       "    .dataframe tbody tr th:only-of-type {\n",
       "        vertical-align: middle;\n",
       "    }\n",
       "\n",
       "    .dataframe tbody tr th {\n",
       "        vertical-align: top;\n",
       "    }\n",
       "\n",
       "    .dataframe thead th {\n",
       "        text-align: right;\n",
       "    }\n",
       "</style>\n",
       "<table border=\"1\" class=\"dataframe\">\n",
       "  <thead>\n",
       "    <tr style=\"text-align: right;\">\n",
       "      <th></th>\n",
       "      <th>costo_en_dolares</th>\n",
       "      <th>costo_en_pesos</th>\n",
       "      <th>costo</th>\n",
       "      <th>desviacion</th>\n",
       "      <th>desviacion_pct</th>\n",
       "      <th>desviacion_cat</th>\n",
       "    </tr>\n",
       "    <tr>\n",
       "      <th>hora</th>\n",
       "      <th></th>\n",
       "      <th></th>\n",
       "      <th></th>\n",
       "      <th></th>\n",
       "      <th></th>\n",
       "      <th></th>\n",
       "    </tr>\n",
       "  </thead>\n",
       "  <tbody>\n",
       "    <tr>\n",
       "      <th>1</th>\n",
       "      <td>58.931784</td>\n",
       "      <td>39.759256</td>\n",
       "      <td>68.628557</td>\n",
       "      <td>-9.696773</td>\n",
       "      <td>-inf</td>\n",
       "      <td>0.330626</td>\n",
       "    </tr>\n",
       "    <tr>\n",
       "      <th>2</th>\n",
       "      <td>55.601162</td>\n",
       "      <td>37.517417</td>\n",
       "      <td>62.853518</td>\n",
       "      <td>-7.252356</td>\n",
       "      <td>-inf</td>\n",
       "      <td>0.277931</td>\n",
       "    </tr>\n",
       "    <tr>\n",
       "      <th>3</th>\n",
       "      <td>53.540621</td>\n",
       "      <td>36.131845</td>\n",
       "      <td>62.827738</td>\n",
       "      <td>-9.287117</td>\n",
       "      <td>-inf</td>\n",
       "      <td>0.299587</td>\n",
       "    </tr>\n",
       "    <tr>\n",
       "      <th>4</th>\n",
       "      <td>52.856490</td>\n",
       "      <td>35.668773</td>\n",
       "      <td>61.799242</td>\n",
       "      <td>-8.942752</td>\n",
       "      <td>-inf</td>\n",
       "      <td>0.272359</td>\n",
       "    </tr>\n",
       "    <tr>\n",
       "      <th>5</th>\n",
       "      <td>52.719950</td>\n",
       "      <td>35.579572</td>\n",
       "      <td>60.382517</td>\n",
       "      <td>-7.662567</td>\n",
       "      <td>-inf</td>\n",
       "      <td>0.261689</td>\n",
       "    </tr>\n",
       "    <tr>\n",
       "      <th>6</th>\n",
       "      <td>53.406974</td>\n",
       "      <td>36.049219</td>\n",
       "      <td>62.373447</td>\n",
       "      <td>-8.966473</td>\n",
       "      <td>-inf</td>\n",
       "      <td>0.265263</td>\n",
       "    </tr>\n",
       "    <tr>\n",
       "      <th>7</th>\n",
       "      <td>56.368622</td>\n",
       "      <td>38.045431</td>\n",
       "      <td>66.130667</td>\n",
       "      <td>-9.762044</td>\n",
       "      <td>-inf</td>\n",
       "      <td>0.284607</td>\n",
       "    </tr>\n",
       "    <tr>\n",
       "      <th>8</th>\n",
       "      <td>57.071529</td>\n",
       "      <td>38.513581</td>\n",
       "      <td>63.595628</td>\n",
       "      <td>-6.524099</td>\n",
       "      <td>-inf</td>\n",
       "      <td>0.278720</td>\n",
       "    </tr>\n",
       "    <tr>\n",
       "      <th>9</th>\n",
       "      <td>55.474101</td>\n",
       "      <td>37.418439</td>\n",
       "      <td>59.280988</td>\n",
       "      <td>-3.806888</td>\n",
       "      <td>-inf</td>\n",
       "      <td>0.269442</td>\n",
       "    </tr>\n",
       "    <tr>\n",
       "      <th>10</th>\n",
       "      <td>57.375468</td>\n",
       "      <td>38.690665</td>\n",
       "      <td>56.306908</td>\n",
       "      <td>1.068559</td>\n",
       "      <td>-inf</td>\n",
       "      <td>0.174039</td>\n",
       "    </tr>\n",
       "    <tr>\n",
       "      <th>11</th>\n",
       "      <td>57.861854</td>\n",
       "      <td>39.013705</td>\n",
       "      <td>56.403688</td>\n",
       "      <td>1.458166</td>\n",
       "      <td>-inf</td>\n",
       "      <td>0.162606</td>\n",
       "    </tr>\n",
       "    <tr>\n",
       "      <th>12</th>\n",
       "      <td>57.424048</td>\n",
       "      <td>38.723446</td>\n",
       "      <td>56.705580</td>\n",
       "      <td>0.718468</td>\n",
       "      <td>NaN</td>\n",
       "      <td>0.163631</td>\n",
       "    </tr>\n",
       "    <tr>\n",
       "      <th>13</th>\n",
       "      <td>57.183122</td>\n",
       "      <td>38.561307</td>\n",
       "      <td>56.018797</td>\n",
       "      <td>1.164325</td>\n",
       "      <td>NaN</td>\n",
       "      <td>0.173093</td>\n",
       "    </tr>\n",
       "    <tr>\n",
       "      <th>14</th>\n",
       "      <td>56.239594</td>\n",
       "      <td>37.930731</td>\n",
       "      <td>55.680155</td>\n",
       "      <td>0.559439</td>\n",
       "      <td>NaN</td>\n",
       "      <td>0.197876</td>\n",
       "    </tr>\n",
       "    <tr>\n",
       "      <th>15</th>\n",
       "      <td>55.749687</td>\n",
       "      <td>37.604108</td>\n",
       "      <td>55.543907</td>\n",
       "      <td>0.205779</td>\n",
       "      <td>NaN</td>\n",
       "      <td>0.223107</td>\n",
       "    </tr>\n",
       "    <tr>\n",
       "      <th>16</th>\n",
       "      <td>55.771829</td>\n",
       "      <td>37.622806</td>\n",
       "      <td>55.391126</td>\n",
       "      <td>0.380702</td>\n",
       "      <td>NaN</td>\n",
       "      <td>0.263713</td>\n",
       "    </tr>\n",
       "    <tr>\n",
       "      <th>17</th>\n",
       "      <td>57.138964</td>\n",
       "      <td>38.564433</td>\n",
       "      <td>55.596137</td>\n",
       "      <td>1.542826</td>\n",
       "      <td>NaN</td>\n",
       "      <td>0.276249</td>\n",
       "    </tr>\n",
       "    <tr>\n",
       "      <th>18</th>\n",
       "      <td>59.245312</td>\n",
       "      <td>40.003698</td>\n",
       "      <td>57.513328</td>\n",
       "      <td>1.731984</td>\n",
       "      <td>NaN</td>\n",
       "      <td>0.269600</td>\n",
       "    </tr>\n",
       "    <tr>\n",
       "      <th>19</th>\n",
       "      <td>63.326954</td>\n",
       "      <td>42.762713</td>\n",
       "      <td>60.702691</td>\n",
       "      <td>2.624263</td>\n",
       "      <td>-inf</td>\n",
       "      <td>0.262977</td>\n",
       "    </tr>\n",
       "    <tr>\n",
       "      <th>20</th>\n",
       "      <td>65.893472</td>\n",
       "      <td>44.462898</td>\n",
       "      <td>64.777904</td>\n",
       "      <td>1.115568</td>\n",
       "      <td>-inf</td>\n",
       "      <td>0.264738</td>\n",
       "    </tr>\n",
       "    <tr>\n",
       "      <th>21</th>\n",
       "      <td>67.672108</td>\n",
       "      <td>45.644418</td>\n",
       "      <td>70.707160</td>\n",
       "      <td>-3.035051</td>\n",
       "      <td>-inf</td>\n",
       "      <td>0.377145</td>\n",
       "    </tr>\n",
       "    <tr>\n",
       "      <th>22</th>\n",
       "      <td>68.850945</td>\n",
       "      <td>46.429533</td>\n",
       "      <td>74.049043</td>\n",
       "      <td>-5.198099</td>\n",
       "      <td>-inf</td>\n",
       "      <td>0.406371</td>\n",
       "    </tr>\n",
       "    <tr>\n",
       "      <th>23</th>\n",
       "      <td>66.513078</td>\n",
       "      <td>44.847794</td>\n",
       "      <td>72.405286</td>\n",
       "      <td>-5.892208</td>\n",
       "      <td>-inf</td>\n",
       "      <td>0.399800</td>\n",
       "    </tr>\n",
       "    <tr>\n",
       "      <th>24</th>\n",
       "      <td>63.381076</td>\n",
       "      <td>42.749757</td>\n",
       "      <td>69.651732</td>\n",
       "      <td>-6.270656</td>\n",
       "      <td>-inf</td>\n",
       "      <td>0.367290</td>\n",
       "    </tr>\n",
       "    <tr>\n",
       "      <th>25</th>\n",
       "      <td>58.735755</td>\n",
       "      <td>39.136808</td>\n",
       "      <td>59.438714</td>\n",
       "      <td>-0.702960</td>\n",
       "      <td>-inf</td>\n",
       "      <td>0.009434</td>\n",
       "    </tr>\n",
       "  </tbody>\n",
       "</table>\n",
       "</div>"
      ],
      "text/plain": [
       "      costo_en_dolares  costo_en_pesos      costo  desviacion  desviacion_pct  \\\n",
       "hora                                                                            \n",
       "1            58.931784       39.759256  68.628557   -9.696773            -inf   \n",
       "2            55.601162       37.517417  62.853518   -7.252356            -inf   \n",
       "3            53.540621       36.131845  62.827738   -9.287117            -inf   \n",
       "4            52.856490       35.668773  61.799242   -8.942752            -inf   \n",
       "5            52.719950       35.579572  60.382517   -7.662567            -inf   \n",
       "6            53.406974       36.049219  62.373447   -8.966473            -inf   \n",
       "7            56.368622       38.045431  66.130667   -9.762044            -inf   \n",
       "8            57.071529       38.513581  63.595628   -6.524099            -inf   \n",
       "9            55.474101       37.418439  59.280988   -3.806888            -inf   \n",
       "10           57.375468       38.690665  56.306908    1.068559            -inf   \n",
       "11           57.861854       39.013705  56.403688    1.458166            -inf   \n",
       "12           57.424048       38.723446  56.705580    0.718468             NaN   \n",
       "13           57.183122       38.561307  56.018797    1.164325             NaN   \n",
       "14           56.239594       37.930731  55.680155    0.559439             NaN   \n",
       "15           55.749687       37.604108  55.543907    0.205779             NaN   \n",
       "16           55.771829       37.622806  55.391126    0.380702             NaN   \n",
       "17           57.138964       38.564433  55.596137    1.542826             NaN   \n",
       "18           59.245312       40.003698  57.513328    1.731984             NaN   \n",
       "19           63.326954       42.762713  60.702691    2.624263            -inf   \n",
       "20           65.893472       44.462898  64.777904    1.115568            -inf   \n",
       "21           67.672108       45.644418  70.707160   -3.035051            -inf   \n",
       "22           68.850945       46.429533  74.049043   -5.198099            -inf   \n",
       "23           66.513078       44.847794  72.405286   -5.892208            -inf   \n",
       "24           63.381076       42.749757  69.651732   -6.270656            -inf   \n",
       "25           58.735755       39.136808  59.438714   -0.702960            -inf   \n",
       "\n",
       "      desviacion_cat  \n",
       "hora                  \n",
       "1           0.330626  \n",
       "2           0.277931  \n",
       "3           0.299587  \n",
       "4           0.272359  \n",
       "5           0.261689  \n",
       "6           0.265263  \n",
       "7           0.284607  \n",
       "8           0.278720  \n",
       "9           0.269442  \n",
       "10          0.174039  \n",
       "11          0.162606  \n",
       "12          0.163631  \n",
       "13          0.173093  \n",
       "14          0.197876  \n",
       "15          0.223107  \n",
       "16          0.263713  \n",
       "17          0.276249  \n",
       "18          0.269600  \n",
       "19          0.262977  \n",
       "20          0.264738  \n",
       "21          0.377145  \n",
       "22          0.406371  \n",
       "23          0.399800  \n",
       "24          0.367290  \n",
       "25          0.009434  "
      ]
     },
     "execution_count": 95,
     "metadata": {},
     "output_type": "execute_result"
    }
   ],
   "source": [
    "costo_marginal.groupby(['hora']).mean()"
   ]
  },
  {
   "cell_type": "code",
   "execution_count": 36,
   "metadata": {},
   "outputs": [
    {
     "data": {
      "text/html": [
       "<div>\n",
       "<style scoped>\n",
       "    .dataframe tbody tr th:only-of-type {\n",
       "        vertical-align: middle;\n",
       "    }\n",
       "\n",
       "    .dataframe tbody tr th {\n",
       "        vertical-align: top;\n",
       "    }\n",
       "\n",
       "    .dataframe thead th {\n",
       "        text-align: right;\n",
       "    }\n",
       "</style>\n",
       "<table border=\"1\" class=\"dataframe\">\n",
       "  <thead>\n",
       "    <tr style=\"text-align: right;\">\n",
       "      <th></th>\n",
       "      <th>hora</th>\n",
       "      <th>costo_en_dolares</th>\n",
       "      <th>costo_en_pesos</th>\n",
       "      <th>costo</th>\n",
       "    </tr>\n",
       "  </thead>\n",
       "  <tbody>\n",
       "    <tr>\n",
       "      <th>hora</th>\n",
       "      <td>1.000000</td>\n",
       "      <td>0.157918</td>\n",
       "      <td>0.159155</td>\n",
       "      <td>0.054579</td>\n",
       "    </tr>\n",
       "    <tr>\n",
       "      <th>costo_en_dolares</th>\n",
       "      <td>0.157918</td>\n",
       "      <td>1.000000</td>\n",
       "      <td>0.998322</td>\n",
       "      <td>0.489935</td>\n",
       "    </tr>\n",
       "    <tr>\n",
       "      <th>costo_en_pesos</th>\n",
       "      <td>0.159155</td>\n",
       "      <td>0.998322</td>\n",
       "      <td>1.000000</td>\n",
       "      <td>0.484513</td>\n",
       "    </tr>\n",
       "    <tr>\n",
       "      <th>costo</th>\n",
       "      <td>0.054579</td>\n",
       "      <td>0.489935</td>\n",
       "      <td>0.484513</td>\n",
       "      <td>1.000000</td>\n",
       "    </tr>\n",
       "  </tbody>\n",
       "</table>\n",
       "</div>"
      ],
      "text/plain": [
       "                      hora  costo_en_dolares  costo_en_pesos     costo\n",
       "hora              1.000000          0.157918        0.159155  0.054579\n",
       "costo_en_dolares  0.157918          1.000000        0.998322  0.489935\n",
       "costo_en_pesos    0.159155          0.998322        1.000000  0.484513\n",
       "costo             0.054579          0.489935        0.484513  1.000000"
      ]
     },
     "execution_count": 36,
     "metadata": {},
     "output_type": "execute_result"
    }
   ],
   "source": [
    "costo_marginal.corr()"
   ]
  },
  {
   "cell_type": "markdown",
   "metadata": {},
   "source": [
    "## Construcción de variables"
   ]
  },
  {
   "cell_type": "code",
   "execution_count": 77,
   "metadata": {},
   "outputs": [],
   "source": [
    "costo_marginal['desviacion']= costo_marginal['costo_en_dolares'] - costo_marginal['costo']"
   ]
  },
  {
   "cell_type": "code",
   "execution_count": 78,
   "metadata": {},
   "outputs": [
    {
     "data": {
      "text/plain": [
       "0           6.425121\n",
       "1           4.684516\n",
       "2           5.737545\n",
       "3           6.803407\n",
       "4           7.126576\n",
       "             ...    \n",
       "913383   -108.852590\n",
       "913384     27.336879\n",
       "913385   -115.198840\n",
       "913386     28.396438\n",
       "913387   -108.676229\n",
       "Name: desviacion_pct, Length: 913388, dtype: float64"
      ]
     },
     "execution_count": 78,
     "metadata": {},
     "output_type": "execute_result"
    }
   ],
   "source": [
    "#Diferencia entre el costo real y el programado en porcentaje\n",
    "costo_marginal['desviacion_pct']= costo_marginal['desviacion']*100/costo_marginal['costo_en_dolares']\n",
    "costo_marginal['desviacion_pct']"
   ]
  },
  {
   "cell_type": "code",
   "execution_count": 96,
   "metadata": {},
   "outputs": [
    {
     "data": {
      "text/plain": [
       "0         0\n",
       "1         0\n",
       "2         0\n",
       "3         0\n",
       "4         0\n",
       "         ..\n",
       "913383    1\n",
       "913384    1\n",
       "913385    1\n",
       "913386    1\n",
       "913387    1\n",
       "Name: desviacion_cat, Length: 913388, dtype: int32"
      ]
     },
     "execution_count": 96,
     "metadata": {},
     "output_type": "execute_result"
    }
   ],
   "source": [
    "costo_marginal['desviacion_cat']=np.where(costo_marginal['desviacion_pct'].abs()>15,1,0)\n",
    "costo_marginal['desviacion_cat']"
   ]
  },
  {
   "cell_type": "code",
   "execution_count": 107,
   "metadata": {},
   "outputs": [
    {
     "data": {
      "text/html": [
       "<div>\n",
       "<style scoped>\n",
       "    .dataframe tbody tr th:only-of-type {\n",
       "        vertical-align: middle;\n",
       "    }\n",
       "\n",
       "    .dataframe tbody tr th {\n",
       "        vertical-align: top;\n",
       "    }\n",
       "\n",
       "    .dataframe thead th {\n",
       "        text-align: right;\n",
       "    }\n",
       "</style>\n",
       "<table border=\"1\" class=\"dataframe\">\n",
       "  <thead>\n",
       "    <tr style=\"text-align: right;\">\n",
       "      <th></th>\n",
       "      <th>barra_mnemotecnico</th>\n",
       "      <th>barra_referencia_mnemotecnico</th>\n",
       "      <th>fecha</th>\n",
       "      <th>hora</th>\n",
       "      <th>costo_en_dolares</th>\n",
       "      <th>costo_en_pesos</th>\n",
       "      <th>nombre</th>\n",
       "      <th>nombre_barra</th>\n",
       "      <th>costo</th>\n",
       "      <th>desviacion</th>\n",
       "      <th>desviacion_pct</th>\n",
       "      <th>desviacion_cat</th>\n",
       "    </tr>\n",
       "  </thead>\n",
       "  <tbody>\n",
       "    <tr>\n",
       "      <th>908122</th>\n",
       "      <td>BA44G213SE020G213</td>\n",
       "      <td>BA02T002SE032T002</td>\n",
       "      <td>2019-06-30</td>\n",
       "      <td>24</td>\n",
       "      <td>45.99</td>\n",
       "      <td>31.26676</td>\n",
       "      <td>BA S/E ANGAMOS 220KV BP1</td>\n",
       "      <td>BA S/E ANGAMOS 220KV BP1</td>\n",
       "      <td>41.974248</td>\n",
       "      <td>4.015752</td>\n",
       "      <td>8.731794</td>\n",
       "      <td>0</td>\n",
       "    </tr>\n",
       "    <tr>\n",
       "      <th>908123</th>\n",
       "      <td>BA21L120SE114L120</td>\n",
       "      <td>BA02T002SE032T002</td>\n",
       "      <td>2019-06-30</td>\n",
       "      <td>24</td>\n",
       "      <td>46.59</td>\n",
       "      <td>31.67468</td>\n",
       "      <td>BA S/E O'HIGGINS 220KV - BP1</td>\n",
       "      <td>BA S/E O'HIGGINS 220KV - BP1</td>\n",
       "      <td>42.239888</td>\n",
       "      <td>4.350112</td>\n",
       "      <td>9.337007</td>\n",
       "      <td>0</td>\n",
       "    </tr>\n",
       "    <tr>\n",
       "      <th>908124</th>\n",
       "      <td>BA01T005SE067T005</td>\n",
       "      <td>BA02T002SE032T002</td>\n",
       "      <td>2019-06-30</td>\n",
       "      <td>24</td>\n",
       "      <td>51.79</td>\n",
       "      <td>35.20995</td>\n",
       "      <td>BA S/E TUNICHE 15KV</td>\n",
       "      <td>BA S/E TUNICHE 15KV</td>\n",
       "      <td>45.272245</td>\n",
       "      <td>6.517755</td>\n",
       "      <td>12.584969</td>\n",
       "      <td>0</td>\n",
       "    </tr>\n",
       "    <tr>\n",
       "      <th>908125</th>\n",
       "      <td>BA03T002SE002T002</td>\n",
       "      <td>BA02T002SE032T002</td>\n",
       "      <td>2019-06-30</td>\n",
       "      <td>24</td>\n",
       "      <td>48.37</td>\n",
       "      <td>32.88483</td>\n",
       "      <td>BA S/E ALTO JAHUEL 154KV</td>\n",
       "      <td>BA S/E ALTO JAHUEL 154KV</td>\n",
       "      <td>43.930881</td>\n",
       "      <td>4.439119</td>\n",
       "      <td>9.177423</td>\n",
       "      <td>0</td>\n",
       "    </tr>\n",
       "    <tr>\n",
       "      <th>908126</th>\n",
       "      <td>BA47L135SE089L135</td>\n",
       "      <td>BA02T002SE032T002</td>\n",
       "      <td>2019-06-30</td>\n",
       "      <td>24</td>\n",
       "      <td>46.80</td>\n",
       "      <td>31.81745</td>\n",
       "      <td>BA S/E KM6 100KV-BP1</td>\n",
       "      <td>BA S/E KM6 100KV-BP1</td>\n",
       "      <td>42.475963</td>\n",
       "      <td>4.324037</td>\n",
       "      <td>9.239396</td>\n",
       "      <td>0</td>\n",
       "    </tr>\n",
       "    <tr>\n",
       "      <th>...</th>\n",
       "      <td>...</td>\n",
       "      <td>...</td>\n",
       "      <td>...</td>\n",
       "      <td>...</td>\n",
       "      <td>...</td>\n",
       "      <td>...</td>\n",
       "      <td>...</td>\n",
       "      <td>...</td>\n",
       "      <td>...</td>\n",
       "      <td>...</td>\n",
       "      <td>...</td>\n",
       "      <td>...</td>\n",
       "    </tr>\n",
       "    <tr>\n",
       "      <th>33372</th>\n",
       "      <td>BA01L025SE001L025</td>\n",
       "      <td>BA02T002SE032T002</td>\n",
       "      <td>2019-01-01</td>\n",
       "      <td>1</td>\n",
       "      <td>51.06</td>\n",
       "      <td>35.52193</td>\n",
       "      <td>BA S/E PUNTA PEUCO HBP</td>\n",
       "      <td>BA S/E PUNTA PEUCO HBP</td>\n",
       "      <td>50.887134</td>\n",
       "      <td>0.172866</td>\n",
       "      <td>0.338555</td>\n",
       "      <td>0</td>\n",
       "    </tr>\n",
       "    <tr>\n",
       "      <th>33373</th>\n",
       "      <td>BA30L134SE017L134</td>\n",
       "      <td>BA02T002SE032T002</td>\n",
       "      <td>2019-01-01</td>\n",
       "      <td>1</td>\n",
       "      <td>57.95</td>\n",
       "      <td>40.31524</td>\n",
       "      <td>BA S/E ALTO NORTE 110KV</td>\n",
       "      <td>BA S/E ALTO NORTE 110KV</td>\n",
       "      <td>134.854823</td>\n",
       "      <td>-76.904823</td>\n",
       "      <td>-132.708927</td>\n",
       "      <td>1</td>\n",
       "    </tr>\n",
       "    <tr>\n",
       "      <th>33374</th>\n",
       "      <td>BA16G216SE035G216</td>\n",
       "      <td>BA02T002SE032T002</td>\n",
       "      <td>2019-01-01</td>\n",
       "      <td>1</td>\n",
       "      <td>54.44</td>\n",
       "      <td>37.87336</td>\n",
       "      <td>BA S/E CENTRAL DIESEL TAMAYA 110KV - BP</td>\n",
       "      <td>BA S/E CENTRAL DIESEL TAMAYA 110KV - BP</td>\n",
       "      <td>122.683649</td>\n",
       "      <td>-68.243649</td>\n",
       "      <td>-125.355712</td>\n",
       "      <td>1</td>\n",
       "    </tr>\n",
       "    <tr>\n",
       "      <th>33375</th>\n",
       "      <td>BA31L120SE065L120</td>\n",
       "      <td>BA02T002SE032T002</td>\n",
       "      <td>2019-01-01</td>\n",
       "      <td>1</td>\n",
       "      <td>58.33</td>\n",
       "      <td>40.57960</td>\n",
       "      <td>BA S/E DOMEYKO 220KV - BP1</td>\n",
       "      <td>BA S/E DOMEYKO 220KV - BP1</td>\n",
       "      <td>135.982788</td>\n",
       "      <td>-77.652788</td>\n",
       "      <td>-133.126672</td>\n",
       "      <td>1</td>\n",
       "    </tr>\n",
       "    <tr>\n",
       "      <th>33376</th>\n",
       "      <td>BA68T005SE277T005</td>\n",
       "      <td>BA02T002SE032T002</td>\n",
       "      <td>2019-01-01</td>\n",
       "      <td>1</td>\n",
       "      <td>58.83</td>\n",
       "      <td>40.92744</td>\n",
       "      <td>BA S/E QUIANI 66KV</td>\n",
       "      <td>BA S/E QUIANI 66KV</td>\n",
       "      <td>132.481487</td>\n",
       "      <td>-73.651487</td>\n",
       "      <td>-125.193757</td>\n",
       "      <td>1</td>\n",
       "    </tr>\n",
       "  </tbody>\n",
       "</table>\n",
       "<p>913388 rows × 12 columns</p>\n",
       "</div>"
      ],
      "text/plain": [
       "       barra_mnemotecnico barra_referencia_mnemotecnico       fecha  hora  \\\n",
       "908122  BA44G213SE020G213             BA02T002SE032T002  2019-06-30    24   \n",
       "908123  BA21L120SE114L120             BA02T002SE032T002  2019-06-30    24   \n",
       "908124  BA01T005SE067T005             BA02T002SE032T002  2019-06-30    24   \n",
       "908125  BA03T002SE002T002             BA02T002SE032T002  2019-06-30    24   \n",
       "908126  BA47L135SE089L135             BA02T002SE032T002  2019-06-30    24   \n",
       "...                   ...                           ...         ...   ...   \n",
       "33372   BA01L025SE001L025             BA02T002SE032T002  2019-01-01     1   \n",
       "33373   BA30L134SE017L134             BA02T002SE032T002  2019-01-01     1   \n",
       "33374   BA16G216SE035G216             BA02T002SE032T002  2019-01-01     1   \n",
       "33375   BA31L120SE065L120             BA02T002SE032T002  2019-01-01     1   \n",
       "33376   BA68T005SE277T005             BA02T002SE032T002  2019-01-01     1   \n",
       "\n",
       "        costo_en_dolares  costo_en_pesos  \\\n",
       "908122             45.99        31.26676   \n",
       "908123             46.59        31.67468   \n",
       "908124             51.79        35.20995   \n",
       "908125             48.37        32.88483   \n",
       "908126             46.80        31.81745   \n",
       "...                  ...             ...   \n",
       "33372              51.06        35.52193   \n",
       "33373              57.95        40.31524   \n",
       "33374              54.44        37.87336   \n",
       "33375              58.33        40.57960   \n",
       "33376              58.83        40.92744   \n",
       "\n",
       "                                         nombre  \\\n",
       "908122                 BA S/E ANGAMOS 220KV BP1   \n",
       "908123             BA S/E O'HIGGINS 220KV - BP1   \n",
       "908124                      BA S/E TUNICHE 15KV   \n",
       "908125                 BA S/E ALTO JAHUEL 154KV   \n",
       "908126                     BA S/E KM6 100KV-BP1   \n",
       "...                                         ...   \n",
       "33372                    BA S/E PUNTA PEUCO HBP   \n",
       "33373                   BA S/E ALTO NORTE 110KV   \n",
       "33374   BA S/E CENTRAL DIESEL TAMAYA 110KV - BP   \n",
       "33375                BA S/E DOMEYKO 220KV - BP1   \n",
       "33376                        BA S/E QUIANI 66KV   \n",
       "\n",
       "                                   nombre_barra       costo  desviacion  \\\n",
       "908122                 BA S/E ANGAMOS 220KV BP1   41.974248    4.015752   \n",
       "908123             BA S/E O'HIGGINS 220KV - BP1   42.239888    4.350112   \n",
       "908124                      BA S/E TUNICHE 15KV   45.272245    6.517755   \n",
       "908125                 BA S/E ALTO JAHUEL 154KV   43.930881    4.439119   \n",
       "908126                     BA S/E KM6 100KV-BP1   42.475963    4.324037   \n",
       "...                                         ...         ...         ...   \n",
       "33372                    BA S/E PUNTA PEUCO HBP   50.887134    0.172866   \n",
       "33373                   BA S/E ALTO NORTE 110KV  134.854823  -76.904823   \n",
       "33374   BA S/E CENTRAL DIESEL TAMAYA 110KV - BP  122.683649  -68.243649   \n",
       "33375                BA S/E DOMEYKO 220KV - BP1  135.982788  -77.652788   \n",
       "33376                        BA S/E QUIANI 66KV  132.481487  -73.651487   \n",
       "\n",
       "        desviacion_pct  desviacion_cat  \n",
       "908122        8.731794               0  \n",
       "908123        9.337007               0  \n",
       "908124       12.584969               0  \n",
       "908125        9.177423               0  \n",
       "908126        9.239396               0  \n",
       "...                ...             ...  \n",
       "33372         0.338555               0  \n",
       "33373      -132.708927               1  \n",
       "33374      -125.355712               1  \n",
       "33375      -133.126672               1  \n",
       "33376      -125.193757               1  \n",
       "\n",
       "[913388 rows x 12 columns]"
      ]
     },
     "execution_count": 107,
     "metadata": {},
     "output_type": "execute_result"
    }
   ],
   "source": [
    "#Ordenamos los datos por fecha y hora, para\n",
    "#costo_marginal.sort_values(['fecha','hora'],ascending=False)"
   ]
  },
  {
   "cell_type": "code",
   "execution_count": 123,
   "metadata": {},
   "outputs": [
    {
     "data": {
      "text/plain": [
       "<seaborn.axisgrid.FacetGrid at 0x1ff08560d90>"
      ]
     },
     "execution_count": 123,
     "metadata": {},
     "output_type": "execute_result"
    },
    {
     "data": {
      "image/png": "[encoded data removed]",
      "text/plain": [
       "<Figure size 360x360 with 1 Axes>"
      ]
     },
     "metadata": {
      "needs_background": "light"
     },
     "output_type": "display_data"
    }
   ],
   "source": [
    "sns.relplot(x = 'fecha', y = \"desviacion_cat\",data = costo_marginal)"
   ]
  },
  {
   "cell_type": "markdown",
   "metadata": {},
   "source": [
    "## Visualización de datos"
   ]
  },
  {
   "cell_type": "code",
   "execution_count": null,
   "metadata": {},
   "outputs": [],
   "source": [
    "def time_plot_costo_barra(codigo_barra, fecha_inicial, fecha_final):\n",
    "    \n",
    "codigo_barra='BA02T002SE032T002'\n",
    "fecha_inicial='2019-01'\n",
    "fecha_final='2019-06'\n",
    "\n",
    "fecha_inicial\n",
    "costo_marginal"
   ]
  },
  {
   "cell_type": "code",
   "execution_count": 121,
   "metadata": {},
   "outputs": [],
   "source": [
    "costo_marginal['fecha']=pd.to_datetime(costo_marginal['fecha'])"
   ]
  },
  {
   "cell_type": "code",
   "execution_count": 128,
   "metadata": {},
   "outputs": [
    {
     "data": {
      "image/png": "[encoded data removed]",
      "text/plain": [
       "<Figure size 864x432 with 1 Axes>"
      ]
     },
     "metadata": {
      "needs_background": "light"
     },
     "output_type": "display_data"
    }
   ],
   "source": [
    "plt.figure(figsize=(12,6))\n",
    "plt.plot(costo_marginal['fecha'],costo_marginal['costo_en_dolares'])\n",
    "plt.plot(costo_marginal['fecha'],costo_marginal['costo'])\n",
    "plt.legend(['cmg_real','cmg_prog'])\n",
    "plt.show()"
   ]
  },
  {
   "cell_type": "code",
   "execution_count": null,
   "metadata": {},
   "outputs": [],
   "source": [
    "def time_plot_costo_barra(codigo_barra, fecha_inicial, fecha_final):\n",
    "    \n",
    "codigo_barra='BA02T002SE032T002'\n",
    "fecha_inicial='2019-01-05'\n",
    "fecha_final='2019-06-15'\n",
    "\n",
    "fecha_inicial=pd.to_datetime(fecha_inicial)\n",
    "fecha final=pd.to_datetime(fecha_final)\n"
   ]
  },
  {
   "cell_type": "code",
   "execution_count": null,
   "metadata": {},
   "outputs": [],
   "source": [
    "fecha_inicial='2019-01-05'\n",
    "fecha_final='2019-06-15'\n",
    "\n",
    "fecha_inicial=pd.to_datetime(fecha_inicial)\n",
    "fecha_final=pd.to_datetime(fecha_final)"
   ]
  },
  {
   "cell_type": "code",
   "execution_count": 162,
   "metadata": {},
   "outputs": [],
   "source": [
    "df=costo_marginal.sort_values(['fecha','hora'],ascending=False)\n",
    "cond=(df['barra_mnemotecnico']=='BA02T002SE032T002')& (df['fecha']>= fecha_inicial) & (df['fecha']<fecha_final)"
   ]
  },
  {
   "cell_type": "code",
   "execution_count": 152,
   "metadata": {},
   "outputs": [],
   "source": [
    "cond=(costo_marginal['barra_mnemotecnico']=='BA02T002SE032T002')& (costo_marginal['fecha']>= fecha_inicial) & (costo_marginal['fecha']<fecha_final)"
   ]
  },
  {
   "cell_type": "code",
   "execution_count": 158,
   "metadata": {},
   "outputs": [],
   "source": [
    "cmg_real=costo_marginal[cond]['costo_en_dolares']\n",
    "cmg_prog=costo_marginal[cond]['costo']\n",
    "fechas_=costo_marginal[cond]['fecha']\n"
   ]
  },
  {
   "cell_type": "code",
   "execution_count": 159,
   "metadata": {},
   "outputs": [
    {
     "data": {
      "image/png": "[encoded data removed]",
      "text/plain": [
       "<Figure size 864x432 with 1 Axes>"
      ]
     },
     "metadata": {
      "needs_background": "light"
     },
     "output_type": "display_data"
    }
   ],
   "source": [
    "plt.figure(figsize=(12,6))\n",
    "plt.plot(fechas_,cmg_real)\n",
    "plt.plot(fechas_,cmg_prog)\n",
    "plt.legend(['cmg_real','cmg_prog'])\n",
    "plt.show()"
   ]
  },
  {
   "cell_type": "code",
   "execution_count": null,
   "metadata": {},
   "outputs": [],
   "source": []
  },
  {
   "cell_type": "code",
   "execution_count": 151,
   "metadata": {},
   "outputs": [],
   "source": [
    "cond1=(costo_marginal['fecha']>= fecha_inicial) & (costo_marginal['fecha']<fecha_final)\n"
   ]
  },
  {
   "cell_type": "code",
   "execution_count": 132,
   "metadata": {},
   "outputs": [],
   "source": [
    "cmg_real=costo_marginal[booleano]['costo_en_dolares']\n",
    "cmg_prog=costo_marginal[booleano]['costo']\n",
    "fechas_t=costo_marginal[booleano]['costo']"
   ]
  },
  {
   "cell_type": "code",
   "execution_count": 133,
   "metadata": {},
   "outputs": [
    {
     "data": {
      "text/plain": [
       "135       58.23\n",
       "411       53.05\n",
       "557       87.00\n",
       "703       74.67\n",
       "1029      95.09\n",
       "          ...  \n",
       "912387    54.20\n",
       "912533    50.60\n",
       "912871    86.46\n",
       "913076    68.99\n",
       "913361    74.80\n",
       "Name: costo_en_dolares, Length: 4345, dtype: float64"
      ]
     },
     "execution_count": 133,
     "metadata": {},
     "output_type": "execute_result"
    }
   ],
   "source": []
  },
  {
   "cell_type": "code",
   "execution_count": null,
   "metadata": {},
   "outputs": [],
   "source": [
    "plt.figure(figsize=(12,6))\n",
    "plt.plot(costo_marginal['fecha'],costo_marginal['costo_en_dolares'])\n",
    "plt.plot(costo_marginal['fecha'],costo_marginal['costo'])\n",
    "plt.legend(['cmg_real','cmg_prog'])\n",
    "plt.show()"
   ]
  }
 ],
 "metadata": {
  "kernelspec": {
   "display_name": "Python 3",
   "language": "python",
   "name": "python3"
  },
  "language_info": {
   "codemirror_mode": {
    "name": "ipython",
    "version": 3
   },
   "file_extension": ".py",
   "mimetype": "text/x-python",
   "name": "python",
   "nbconvert_exporter": "python",
   "pygments_lexer": "ipython3",
   "version": "3.8.5"
  }
 },
 "nbformat": 4,
 "nbformat_minor": 4
}

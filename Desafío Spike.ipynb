{
 "cells": [
  {
   "cell_type": "code",
   "execution_count": 6,
   "metadata": {},
   "outputs": [],
   "source": [
    "import pandas as pd\n",
    "import numpy as np\n",
    "from datetime import datetime\n",
    "import matplotlib.pyplot as plt\n",
    "import seaborn as sns"
   ]
  },
  {
   "cell_type": "markdown",
   "metadata": {},
   "source": [
    "## Costos marginales"
   ]
  },
  {
   "cell_type": "code",
   "execution_count": 3,
   "metadata": {},
   "outputs": [],
   "source": [
    "#Datos de los costos marginales reales observados\n",
    "df_cm=pd.read_csv(\"costo_marginal_real.csv\")\n",
    "\n",
    "#Datos de los costos marginales reales observados\n",
    "df_cp=pd.read_csv(\"costo_marginal_programado.csv\")"
   ]
  },
  {
   "cell_type": "code",
   "execution_count": 4,
   "metadata": {},
   "outputs": [
    {
     "data": {
      "text/html": [
       "<div>\n",
       "<style scoped>\n",
       "    .dataframe tbody tr th:only-of-type {\n",
       "        vertical-align: middle;\n",
       "    }\n",
       "\n",
       "    .dataframe tbody tr th {\n",
       "        vertical-align: top;\n",
       "    }\n",
       "\n",
       "    .dataframe thead th {\n",
       "        text-align: right;\n",
       "    }\n",
       "</style>\n",
       "<table border=\"1\" class=\"dataframe\">\n",
       "  <thead>\n",
       "    <tr style=\"text-align: right;\">\n",
       "      <th></th>\n",
       "      <th>barra_mnemotecnico</th>\n",
       "      <th>barra_referencia_mnemotecnico</th>\n",
       "      <th>fecha</th>\n",
       "      <th>hora</th>\n",
       "      <th>costo_en_dolares</th>\n",
       "      <th>costo_en_pesos</th>\n",
       "      <th>nombre</th>\n",
       "    </tr>\n",
       "  </thead>\n",
       "  <tbody>\n",
       "    <tr>\n",
       "      <th>0</th>\n",
       "      <td>BA01T005SE075T005</td>\n",
       "      <td>BA02T002SE032T002</td>\n",
       "      <td>2019-04-06</td>\n",
       "      <td>25</td>\n",
       "      <td>62.24</td>\n",
       "      <td>41.47176</td>\n",
       "      <td>BA S/E LORETO 15KV</td>\n",
       "    </tr>\n",
       "    <tr>\n",
       "      <th>1</th>\n",
       "      <td>BA01T005SE175T005</td>\n",
       "      <td>BA02T002SE032T002</td>\n",
       "      <td>2019-04-06</td>\n",
       "      <td>25</td>\n",
       "      <td>62.56</td>\n",
       "      <td>41.68498</td>\n",
       "      <td>BA S/E RETIRO 13.2KV</td>\n",
       "    </tr>\n",
       "    <tr>\n",
       "      <th>2</th>\n",
       "      <td>BA03R002SE002R002</td>\n",
       "      <td>BA02T002SE032T002</td>\n",
       "      <td>2019-04-06</td>\n",
       "      <td>25</td>\n",
       "      <td>60.04</td>\n",
       "      <td>40.00585</td>\n",
       "      <td>BA S/E ALTAMIRANO 12.5KV BP1</td>\n",
       "    </tr>\n",
       "    <tr>\n",
       "      <th>3</th>\n",
       "      <td>BA01R002SE012R002</td>\n",
       "      <td>BA02T002SE032T002</td>\n",
       "      <td>2019-04-06</td>\n",
       "      <td>25</td>\n",
       "      <td>61.65</td>\n",
       "      <td>41.07863</td>\n",
       "      <td>BA S/E CURACAVI 44KV B1</td>\n",
       "    </tr>\n",
       "    <tr>\n",
       "      <th>4</th>\n",
       "      <td>BA03R002SE013R002</td>\n",
       "      <td>BA02T002SE032T002</td>\n",
       "      <td>2019-04-06</td>\n",
       "      <td>25</td>\n",
       "      <td>59.55</td>\n",
       "      <td>39.67936</td>\n",
       "      <td>BA S/E EL MANZANO (ENEL DISTRIBUCIÓN) 23KV BP1</td>\n",
       "    </tr>\n",
       "  </tbody>\n",
       "</table>\n",
       "</div>"
      ],
      "text/plain": [
       "  barra_mnemotecnico barra_referencia_mnemotecnico       fecha  hora  \\\n",
       "0  BA01T005SE075T005             BA02T002SE032T002  2019-04-06    25   \n",
       "1  BA01T005SE175T005             BA02T002SE032T002  2019-04-06    25   \n",
       "2  BA03R002SE002R002             BA02T002SE032T002  2019-04-06    25   \n",
       "3  BA01R002SE012R002             BA02T002SE032T002  2019-04-06    25   \n",
       "4  BA03R002SE013R002             BA02T002SE032T002  2019-04-06    25   \n",
       "\n",
       "   costo_en_dolares  costo_en_pesos  \\\n",
       "0             62.24        41.47176   \n",
       "1             62.56        41.68498   \n",
       "2             60.04        40.00585   \n",
       "3             61.65        41.07863   \n",
       "4             59.55        39.67936   \n",
       "\n",
       "                                           nombre  \n",
       "0                              BA S/E LORETO 15KV  \n",
       "1                            BA S/E RETIRO 13.2KV  \n",
       "2                    BA S/E ALTAMIRANO 12.5KV BP1  \n",
       "3                         BA S/E CURACAVI 44KV B1  \n",
       "4  BA S/E EL MANZANO (ENEL DISTRIBUCIÓN) 23KV BP1  "
      ]
     },
     "execution_count": 4,
     "metadata": {},
     "output_type": "execute_result"
    }
   ],
   "source": [
    "df_cm.head()"
   ]
  },
  {
   "cell_type": "code",
   "execution_count": 5,
   "metadata": {},
   "outputs": [
    {
     "data": {
      "text/html": [
       "<div>\n",
       "<style scoped>\n",
       "    .dataframe tbody tr th:only-of-type {\n",
       "        vertical-align: middle;\n",
       "    }\n",
       "\n",
       "    .dataframe tbody tr th {\n",
       "        vertical-align: top;\n",
       "    }\n",
       "\n",
       "    .dataframe thead th {\n",
       "        text-align: right;\n",
       "    }\n",
       "</style>\n",
       "<table border=\"1\" class=\"dataframe\">\n",
       "  <thead>\n",
       "    <tr style=\"text-align: right;\">\n",
       "      <th></th>\n",
       "      <th>mnemotecnico_barra</th>\n",
       "      <th>nombre_barra</th>\n",
       "      <th>fecha</th>\n",
       "      <th>hora</th>\n",
       "      <th>costo</th>\n",
       "    </tr>\n",
       "  </thead>\n",
       "  <tbody>\n",
       "    <tr>\n",
       "      <th>0</th>\n",
       "      <td>BA01T002SE002T002</td>\n",
       "      <td>BA S/E ALTO JAHUEL 110KV SECCION 1</td>\n",
       "      <td>2019-01-01</td>\n",
       "      <td>1</td>\n",
       "      <td>49.897334</td>\n",
       "    </tr>\n",
       "    <tr>\n",
       "      <th>1</th>\n",
       "      <td>BA01T002SE002T002</td>\n",
       "      <td>BA S/E ALTO JAHUEL 110KV SECCION 1</td>\n",
       "      <td>2019-01-01</td>\n",
       "      <td>2</td>\n",
       "      <td>50.471616</td>\n",
       "    </tr>\n",
       "    <tr>\n",
       "      <th>2</th>\n",
       "      <td>BA01T002SE002T002</td>\n",
       "      <td>BA S/E ALTO JAHUEL 110KV SECCION 1</td>\n",
       "      <td>2019-01-01</td>\n",
       "      <td>3</td>\n",
       "      <td>50.077821</td>\n",
       "    </tr>\n",
       "    <tr>\n",
       "      <th>3</th>\n",
       "      <td>BA01T002SE002T002</td>\n",
       "      <td>BA S/E ALTO JAHUEL 110KV SECCION 1</td>\n",
       "      <td>2019-01-01</td>\n",
       "      <td>4</td>\n",
       "      <td>49.796216</td>\n",
       "    </tr>\n",
       "    <tr>\n",
       "      <th>4</th>\n",
       "      <td>BA01T002SE002T002</td>\n",
       "      <td>BA S/E ALTO JAHUEL 110KV SECCION 1</td>\n",
       "      <td>2019-01-01</td>\n",
       "      <td>5</td>\n",
       "      <td>49.796216</td>\n",
       "    </tr>\n",
       "  </tbody>\n",
       "</table>\n",
       "</div>"
      ],
      "text/plain": [
       "  mnemotecnico_barra                        nombre_barra       fecha  hora  \\\n",
       "0  BA01T002SE002T002  BA S/E ALTO JAHUEL 110KV SECCION 1  2019-01-01     1   \n",
       "1  BA01T002SE002T002  BA S/E ALTO JAHUEL 110KV SECCION 1  2019-01-01     2   \n",
       "2  BA01T002SE002T002  BA S/E ALTO JAHUEL 110KV SECCION 1  2019-01-01     3   \n",
       "3  BA01T002SE002T002  BA S/E ALTO JAHUEL 110KV SECCION 1  2019-01-01     4   \n",
       "4  BA01T002SE002T002  BA S/E ALTO JAHUEL 110KV SECCION 1  2019-01-01     5   \n",
       "\n",
       "       costo  \n",
       "0  49.897334  \n",
       "1  50.471616  \n",
       "2  50.077821  \n",
       "3  49.796216  \n",
       "4  49.796216  "
      ]
     },
     "execution_count": 5,
     "metadata": {},
     "output_type": "execute_result"
    }
   ],
   "source": [
    "df_cp.head()"
   ]
  },
  {
   "cell_type": "code",
   "execution_count": 9,
   "metadata": {},
   "outputs": [],
   "source": [
    "#Se modifica el nombre de la primera columna de df_cost_prog, y se pasa la lista\n",
    "#con todos los nombres, para poder realizar el marge\n",
    "\n",
    "df_cp.columns= ['barra_mnemotecnico', 'nombre_barra', 'fecha', 'hora', 'costo']"
   ]
  },
  {
   "cell_type": "code",
   "execution_count": 10,
   "metadata": {},
   "outputs": [],
   "source": [
    "costo_marginal=pd.merge(df_cm,df_cp,on=['barra_mnemotecnico', 'fecha', 'hora'])"
   ]
  },
  {
   "cell_type": "code",
   "execution_count": 11,
   "metadata": {},
   "outputs": [],
   "source": [
    "#Para realizar el merge tome en cuenta la fecha y la hora tambien, para no tener, filas\n",
    "# no tener filas que tengan la misma barra pero con horas y fechas distintas"
   ]
  },
  {
   "cell_type": "code",
   "execution_count": 12,
   "metadata": {},
   "outputs": [
    {
     "data": {
      "text/html": [
       "<div>\n",
       "<style scoped>\n",
       "    .dataframe tbody tr th:only-of-type {\n",
       "        vertical-align: middle;\n",
       "    }\n",
       "\n",
       "    .dataframe tbody tr th {\n",
       "        vertical-align: top;\n",
       "    }\n",
       "\n",
       "    .dataframe thead th {\n",
       "        text-align: right;\n",
       "    }\n",
       "</style>\n",
       "<table border=\"1\" class=\"dataframe\">\n",
       "  <thead>\n",
       "    <tr style=\"text-align: right;\">\n",
       "      <th></th>\n",
       "      <th>barra_mnemotecnico</th>\n",
       "      <th>barra_referencia_mnemotecnico</th>\n",
       "      <th>fecha</th>\n",
       "      <th>hora</th>\n",
       "      <th>costo_en_dolares</th>\n",
       "      <th>costo_en_pesos</th>\n",
       "      <th>nombre</th>\n",
       "      <th>nombre_barra</th>\n",
       "      <th>costo</th>\n",
       "    </tr>\n",
       "  </thead>\n",
       "  <tbody>\n",
       "    <tr>\n",
       "      <th>0</th>\n",
       "      <td>BA01G021SE018G021</td>\n",
       "      <td>BA02T002SE032T002</td>\n",
       "      <td>2019-04-06</td>\n",
       "      <td>25</td>\n",
       "      <td>58.02</td>\n",
       "      <td>38.65989</td>\n",
       "      <td>BA S/E CENTRAL QUINTERO 220KV</td>\n",
       "      <td>BA S/E CENTRAL QUINTERO 220KV</td>\n",
       "      <td>54.292145</td>\n",
       "    </tr>\n",
       "    <tr>\n",
       "      <th>1</th>\n",
       "      <td>BA01T018SE001T018</td>\n",
       "      <td>BA02T002SE032T002</td>\n",
       "      <td>2019-04-06</td>\n",
       "      <td>25</td>\n",
       "      <td>63.60</td>\n",
       "      <td>42.37795</td>\n",
       "      <td>BA S/E NUEVA PICHIRROPULLI 220KV B1</td>\n",
       "      <td>BA S/E NUEVA PICHIRROPULLI 220KV B1</td>\n",
       "      <td>60.620648</td>\n",
       "    </tr>\n",
       "    <tr>\n",
       "      <th>2</th>\n",
       "      <td>BA02T005SE055T005</td>\n",
       "      <td>BA02T002SE032T002</td>\n",
       "      <td>2019-04-06</td>\n",
       "      <td>25</td>\n",
       "      <td>62.78</td>\n",
       "      <td>41.83157</td>\n",
       "      <td>BA S/E SAN FRANCISCO DE MOSTAZAL 66KV T1</td>\n",
       "      <td>BA S/E SAN FRANCISCO DE MOSTAZAL 66KV T1</td>\n",
       "      <td>59.177969</td>\n",
       "    </tr>\n",
       "    <tr>\n",
       "      <th>3</th>\n",
       "      <td>BA01T002SE029T002</td>\n",
       "      <td>BA02T002SE032T002</td>\n",
       "      <td>2019-04-06</td>\n",
       "      <td>25</td>\n",
       "      <td>58.55</td>\n",
       "      <td>39.01304</td>\n",
       "      <td>BA S/E CENTRAL PEHUENCHE 220KV B1</td>\n",
       "      <td>BA S/E CENTRAL PEHUENCHE 220KV B1</td>\n",
       "      <td>54.566605</td>\n",
       "    </tr>\n",
       "    <tr>\n",
       "      <th>4</th>\n",
       "      <td>BA01R002SE041R002</td>\n",
       "      <td>BA02T002SE032T002</td>\n",
       "      <td>2019-04-06</td>\n",
       "      <td>25</td>\n",
       "      <td>60.39</td>\n",
       "      <td>40.23906</td>\n",
       "      <td>BA S/E SAN CRISTOBAL 110KV B1</td>\n",
       "      <td>BA S/E SAN CRISTOBAL 110KV B1</td>\n",
       "      <td>56.086260</td>\n",
       "    </tr>\n",
       "  </tbody>\n",
       "</table>\n",
       "</div>"
      ],
      "text/plain": [
       "  barra_mnemotecnico barra_referencia_mnemotecnico       fecha  hora  \\\n",
       "0  BA01G021SE018G021             BA02T002SE032T002  2019-04-06    25   \n",
       "1  BA01T018SE001T018             BA02T002SE032T002  2019-04-06    25   \n",
       "2  BA02T005SE055T005             BA02T002SE032T002  2019-04-06    25   \n",
       "3  BA01T002SE029T002             BA02T002SE032T002  2019-04-06    25   \n",
       "4  BA01R002SE041R002             BA02T002SE032T002  2019-04-06    25   \n",
       "\n",
       "   costo_en_dolares  costo_en_pesos                                    nombre  \\\n",
       "0             58.02        38.65989             BA S/E CENTRAL QUINTERO 220KV   \n",
       "1             63.60        42.37795       BA S/E NUEVA PICHIRROPULLI 220KV B1   \n",
       "2             62.78        41.83157  BA S/E SAN FRANCISCO DE MOSTAZAL 66KV T1   \n",
       "3             58.55        39.01304         BA S/E CENTRAL PEHUENCHE 220KV B1   \n",
       "4             60.39        40.23906             BA S/E SAN CRISTOBAL 110KV B1   \n",
       "\n",
       "                               nombre_barra      costo  \n",
       "0             BA S/E CENTRAL QUINTERO 220KV  54.292145  \n",
       "1       BA S/E NUEVA PICHIRROPULLI 220KV B1  60.620648  \n",
       "2  BA S/E SAN FRANCISCO DE MOSTAZAL 66KV T1  59.177969  \n",
       "3         BA S/E CENTRAL PEHUENCHE 220KV B1  54.566605  \n",
       "4             BA S/E SAN CRISTOBAL 110KV B1  56.086260  "
      ]
     },
     "execution_count": 12,
     "metadata": {},
     "output_type": "execute_result"
    }
   ],
   "source": [
    "costo_marginal.head()"
   ]
  },
  {
   "cell_type": "code",
   "execution_count": 13,
   "metadata": {},
   "outputs": [
    {
     "data": {
      "text/html": [
       "<div>\n",
       "<style scoped>\n",
       "    .dataframe tbody tr th:only-of-type {\n",
       "        vertical-align: middle;\n",
       "    }\n",
       "\n",
       "    .dataframe tbody tr th {\n",
       "        vertical-align: top;\n",
       "    }\n",
       "\n",
       "    .dataframe thead th {\n",
       "        text-align: right;\n",
       "    }\n",
       "</style>\n",
       "<table border=\"1\" class=\"dataframe\">\n",
       "  <thead>\n",
       "    <tr style=\"text-align: right;\">\n",
       "      <th></th>\n",
       "      <th>hora</th>\n",
       "      <th>costo_en_dolares</th>\n",
       "      <th>costo_en_pesos</th>\n",
       "      <th>costo</th>\n",
       "    </tr>\n",
       "  </thead>\n",
       "  <tbody>\n",
       "    <tr>\n",
       "      <th>count</th>\n",
       "      <td>913388.000000</td>\n",
       "      <td>913388.000000</td>\n",
       "      <td>913388.000000</td>\n",
       "      <td>913388.000000</td>\n",
       "    </tr>\n",
       "    <tr>\n",
       "      <th>mean</th>\n",
       "      <td>12.502901</td>\n",
       "      <td>58.566654</td>\n",
       "      <td>39.512227</td>\n",
       "      <td>61.888004</td>\n",
       "    </tr>\n",
       "    <tr>\n",
       "      <th>std</th>\n",
       "      <td>6.924006</td>\n",
       "      <td>23.276453</td>\n",
       "      <td>15.555780</td>\n",
       "      <td>23.806896</td>\n",
       "    </tr>\n",
       "    <tr>\n",
       "      <th>min</th>\n",
       "      <td>1.000000</td>\n",
       "      <td>0.000000</td>\n",
       "      <td>0.000000</td>\n",
       "      <td>-12.113677</td>\n",
       "    </tr>\n",
       "    <tr>\n",
       "      <th>25%</th>\n",
       "      <td>7.000000</td>\n",
       "      <td>48.440000</td>\n",
       "      <td>32.559880</td>\n",
       "      <td>49.981588</td>\n",
       "    </tr>\n",
       "    <tr>\n",
       "      <th>50%</th>\n",
       "      <td>13.000000</td>\n",
       "      <td>53.330000</td>\n",
       "      <td>35.965290</td>\n",
       "      <td>55.057527</td>\n",
       "    </tr>\n",
       "    <tr>\n",
       "      <th>75%</th>\n",
       "      <td>19.000000</td>\n",
       "      <td>60.890000</td>\n",
       "      <td>41.258260</td>\n",
       "      <td>64.181228</td>\n",
       "    </tr>\n",
       "    <tr>\n",
       "      <th>max</th>\n",
       "      <td>25.000000</td>\n",
       "      <td>791.140000</td>\n",
       "      <td>523.418220</td>\n",
       "      <td>610.600000</td>\n",
       "    </tr>\n",
       "  </tbody>\n",
       "</table>\n",
       "</div>"
      ],
      "text/plain": [
       "                hora  costo_en_dolares  costo_en_pesos          costo\n",
       "count  913388.000000     913388.000000   913388.000000  913388.000000\n",
       "mean       12.502901         58.566654       39.512227      61.888004\n",
       "std         6.924006         23.276453       15.555780      23.806896\n",
       "min         1.000000          0.000000        0.000000     -12.113677\n",
       "25%         7.000000         48.440000       32.559880      49.981588\n",
       "50%        13.000000         53.330000       35.965290      55.057527\n",
       "75%        19.000000         60.890000       41.258260      64.181228\n",
       "max        25.000000        791.140000      523.418220     610.600000"
      ]
     },
     "execution_count": 13,
     "metadata": {},
     "output_type": "execute_result"
    }
   ],
   "source": [
    "costo_marginal.describe()"
   ]
  },
  {
   "cell_type": "code",
   "execution_count": 14,
   "metadata": {},
   "outputs": [
    {
     "data": {
      "text/plain": [
       "<AxesSubplot:xlabel='costo_en_dolares'>"
      ]
     },
     "execution_count": 14,
     "metadata": {},
     "output_type": "execute_result"
    },
    {
     "data": {
      "image/png": "[encoded data removed]",
      "text/plain": [
       "<Figure size 864x432 with 1 Axes>"
      ]
     },
     "metadata": {
      "needs_background": "light"
     },
     "output_type": "display_data"
    }
   ],
   "source": [
    "plt.figure(figsize=(12,6))\n",
    "sns.boxplot(x=costo_marginal[\"costo_en_dolares\"], linewidth=2)"
   ]
  },
  {
   "cell_type": "code",
   "execution_count": 15,
   "metadata": {},
   "outputs": [
    {
     "data": {
      "text/plain": [
       "<AxesSubplot:xlabel='costo'>"
      ]
     },
     "execution_count": 15,
     "metadata": {},
     "output_type": "execute_result"
    },
    {
     "data": {
      "image/png": "[encoded data removed]",
      "text/plain": [
       "<Figure size 864x432 with 1 Axes>"
      ]
     },
     "metadata": {
      "needs_background": "light"
     },
     "output_type": "display_data"
    }
   ],
   "source": [
    "plt.figure(figsize=(12,6))\n",
    "sns.boxplot(x=costo_marginal[\"costo\"], linewidth=2)"
   ]
  },
  {
   "cell_type": "code",
   "execution_count": 24,
   "metadata": {},
   "outputs": [
    {
     "data": {
      "text/plain": [
       "(array([8.07629e+05, 9.50480e+04, 1.06570e+04, 4.20000e+01, 0.00000e+00,\n",
       "        2.00000e+00, 2.00000e+00, 0.00000e+00, 0.00000e+00, 8.00000e+00]),\n",
       " array([  0.   ,  79.114, 158.228, 237.342, 316.456, 395.57 , 474.684,\n",
       "        553.798, 632.912, 712.026, 791.14 ]),\n",
       " <BarContainer object of 10 artists>)"
      ]
     },
     "execution_count": 24,
     "metadata": {},
     "output_type": "execute_result"
    },
    {
     "data": {
      "image/png": "[encoded data removed]",
      "text/plain": [
       "<Figure size 432x288 with 1 Axes>"
      ]
     },
     "metadata": {
      "needs_background": "light"
     },
     "output_type": "display_data"
    }
   ],
   "source": [
    "plt.hist(costo_marginal['costo_en_dolares'])"
   ]
  },
  {
   "cell_type": "code",
   "execution_count": 25,
   "metadata": {},
   "outputs": [
    {
     "data": {
      "text/plain": [
       "(array([2.36274e+05, 6.41595e+05, 2.74710e+04, 7.86600e+03, 7.50000e+01,\n",
       "        4.40000e+01, 1.10000e+01, 1.00000e+00, 1.00000e+00, 5.00000e+01]),\n",
       " array([-12.11367675,  50.15769092, 112.4290586 , 174.70042628,\n",
       "        236.97179395, 299.24316162, 361.5145293 , 423.78589697,\n",
       "        486.05726465, 548.32863233, 610.6       ]),\n",
       " <BarContainer object of 10 artists>)"
      ]
     },
     "execution_count": 25,
     "metadata": {},
     "output_type": "execute_result"
    },
    {
     "data": {
      "image/png": "[encoded data removed]",
      "text/plain": [
       "<Figure size 432x288 with 1 Axes>"
      ]
     },
     "metadata": {
      "needs_background": "light"
     },
     "output_type": "display_data"
    }
   ],
   "source": [
    "plt.hist(costo_marginal['costo'])"
   ]
  },
  {
   "cell_type": "code",
   "execution_count": 29,
   "metadata": {},
   "outputs": [
    {
     "data": {
      "text/plain": [
       "barra_mnemotecnico               0\n",
       "barra_referencia_mnemotecnico    0\n",
       "fecha                            0\n",
       "hora                             0\n",
       "costo_en_dolares                 0\n",
       "costo_en_pesos                   0\n",
       "nombre                           0\n",
       "nombre_barra                     0\n",
       "costo                            0\n",
       "dtype: int64"
      ]
     },
     "execution_count": 29,
     "metadata": {},
     "output_type": "execute_result"
    }
   ],
   "source": [
    "costo_marginal.isna().sum()"
   ]
  },
  {
   "cell_type": "code",
   "execution_count": 31,
   "metadata": {},
   "outputs": [
    {
     "data": {
      "text/plain": [
       "barra_mnemotecnico                object\n",
       "barra_referencia_mnemotecnico     object\n",
       "fecha                             object\n",
       "hora                               int64\n",
       "costo_en_dolares                 float64\n",
       "costo_en_pesos                   float64\n",
       "nombre                            object\n",
       "nombre_barra                      object\n",
       "costo                            float64\n",
       "dtype: object"
      ]
     },
     "execution_count": 31,
     "metadata": {},
     "output_type": "execute_result"
    }
   ],
   "source": [
    "costo_marginal.dtypes"
   ]
  },
  {
   "cell_type": "code",
   "execution_count": 35,
   "metadata": {},
   "outputs": [],
   "source": [
    "#Ya que la columna fecha se encuentra en string la pasamos a formato fecha\n",
    "costo_marginal['fecha']=pd.to_datetime(costo_marginal['fecha'])"
   ]
  },
  {
   "cell_type": "code",
   "execution_count": 32,
   "metadata": {},
   "outputs": [
    {
     "data": {
      "text/plain": [
       "913388"
      ]
     },
     "execution_count": 32,
     "metadata": {},
     "output_type": "execute_result"
    }
   ],
   "source": [
    "len(costo_marginal)"
   ]
  },
  {
   "cell_type": "code",
   "execution_count": 34,
   "metadata": {},
   "outputs": [
    {
     "data": {
      "text/plain": [
       "(220, 239, 1020)"
      ]
     },
     "execution_count": 34,
     "metadata": {},
     "output_type": "execute_result"
    }
   ],
   "source": [
    "len(costo_marginal['barra_mnemotecnico'].unique()), len(df_cp['barra_mnemotecnico'].unique()),len(df_cm['barra_mnemotecnico'].unique())"
   ]
  },
  {
   "cell_type": "code",
   "execution_count": 36,
   "metadata": {},
   "outputs": [],
   "source": [
    "#Bueno según viendo el describe y los distintos graficos que coloque, y otras cosas que \n",
    "# realice, vemos que tenemos 9 variables ninguna tiene NA, la columna de fecha\n",
    "# era un string, pero la modifique a formato fecha, la columna costo_en_dolares representa al costo real\n",
    "# y la columna costo seria el costo programado aunque no especifica si es en dolares\n",
    "# o pesos asumo que es en dolares por lo cercano de los valores, de la columna costo_en_dolares \n",
    "# y costo, tenemos la columna de barra_mnemotecnico, fecha y hora que traian los \n",
    "# dos data set, según el histograma, no parecn seguir una distribución normal, sobretodo\n",
    "# en la columna de costo en dolares, por otra partese puede notar en el describe que\n",
    "# que el valor maximo del costo marginal real(costo_en_dolares) como el programado(costo), esta\n",
    "# muy lejos del valor que representa el tercer quantil, lo que podia indicar outliers, \n",
    "# viendo el boxplot se reafirma esto, ya que se notan muchos valores fuera de los bigotes\n",
    "# sobre todo en el caso del costo marginal programado, y existen valores negativos en los\n",
    "# costos programados, podrian ser algún error de tipeo.\n",
    "# Ademas se tiene 913.388 filas, y hay 220 barras diferentes, barras para las cuales tenemos\n",
    "#tanto costo marginal real como el programado.\n",
    "#antes del merge teniamos 239 barras para los datos con los costos merginales programados y 1020 para \n",
    "#para los costos marginales reales."
   ]
  },
  {
   "cell_type": "markdown",
   "metadata": {},
   "source": [
    "## Construcción de variables"
   ]
  },
  {
   "cell_type": "code",
   "execution_count": 37,
   "metadata": {},
   "outputs": [],
   "source": [
    "#Diferencia entre el costo real y el programado\n",
    "costo_marginal['desviacion']= costo_marginal['costo_en_dolares'] - costo_marginal['costo']\n",
    "\n",
    "#Diferencia entre el costo real y el programado en porcentaje\n",
    "costo_marginal['desviacion_pct']= costo_marginal['desviacion']*100/costo_marginal['costo_en_dolares']"
   ]
  },
  {
   "cell_type": "code",
   "execution_count": 39,
   "metadata": {},
   "outputs": [],
   "source": [
    "#variable categorica que indica que si hay una desviacion mayor al 15%\n",
    "#el valor es uno de lo contrario es cero.\n",
    "costo_marginal['desviacion_cat']=np.where(costo_marginal['desviacion_pct'].abs()>15,1,0)"
   ]
  },
  {
   "cell_type": "code",
   "execution_count": 51,
   "metadata": {},
   "outputs": [
    {
     "data": {
      "text/html": [
       "<div>\n",
       "<style scoped>\n",
       "    .dataframe tbody tr th:only-of-type {\n",
       "        vertical-align: middle;\n",
       "    }\n",
       "\n",
       "    .dataframe tbody tr th {\n",
       "        vertical-align: top;\n",
       "    }\n",
       "\n",
       "    .dataframe thead th {\n",
       "        text-align: right;\n",
       "    }\n",
       "</style>\n",
       "<table border=\"1\" class=\"dataframe\">\n",
       "  <thead>\n",
       "    <tr style=\"text-align: right;\">\n",
       "      <th></th>\n",
       "      <th>barra_mnemotecnico</th>\n",
       "      <th>barra_referencia_mnemotecnico</th>\n",
       "      <th>fecha</th>\n",
       "      <th>hora</th>\n",
       "      <th>costo_en_dolares</th>\n",
       "      <th>costo_en_pesos</th>\n",
       "      <th>nombre</th>\n",
       "      <th>nombre_barra</th>\n",
       "      <th>costo</th>\n",
       "      <th>desviacion</th>\n",
       "      <th>desviacion_pct</th>\n",
       "      <th>desviacion_cat</th>\n",
       "    </tr>\n",
       "  </thead>\n",
       "  <tbody>\n",
       "    <tr>\n",
       "      <th>33176</th>\n",
       "      <td>BA01G004SE001T011</td>\n",
       "      <td>BA02T002SE032T002</td>\n",
       "      <td>2019-01-01</td>\n",
       "      <td>1</td>\n",
       "      <td>50.41</td>\n",
       "      <td>35.06973</td>\n",
       "      <td>BA S/E CANDELARIA B1 - 220KV</td>\n",
       "      <td>BA S/E CANDELARIA B1 - 220KV</td>\n",
       "      <td>50.116286</td>\n",
       "      <td>0.293714</td>\n",
       "      <td>0.582649</td>\n",
       "      <td>0</td>\n",
       "    </tr>\n",
       "    <tr>\n",
       "      <th>71356</th>\n",
       "      <td>BA01G004SE001T011</td>\n",
       "      <td>BA02T002SE032T002</td>\n",
       "      <td>2019-01-01</td>\n",
       "      <td>2</td>\n",
       "      <td>50.41</td>\n",
       "      <td>35.06973</td>\n",
       "      <td>BA S/E CANDELARIA B1 - 220KV</td>\n",
       "      <td>BA S/E CANDELARIA B1 - 220KV</td>\n",
       "      <td>50.522836</td>\n",
       "      <td>-0.112836</td>\n",
       "      <td>-0.223836</td>\n",
       "      <td>0</td>\n",
       "    </tr>\n",
       "    <tr>\n",
       "      <th>109429</th>\n",
       "      <td>BA01G004SE001T011</td>\n",
       "      <td>BA02T002SE032T002</td>\n",
       "      <td>2019-01-01</td>\n",
       "      <td>3</td>\n",
       "      <td>49.40</td>\n",
       "      <td>34.36709</td>\n",
       "      <td>BA S/E CANDELARIA B1 - 220KV</td>\n",
       "      <td>BA S/E CANDELARIA B1 - 220KV</td>\n",
       "      <td>50.119505</td>\n",
       "      <td>-0.719505</td>\n",
       "      <td>-1.456487</td>\n",
       "      <td>0</td>\n",
       "    </tr>\n",
       "    <tr>\n",
       "      <th>147309</th>\n",
       "      <td>BA01G004SE001T011</td>\n",
       "      <td>BA02T002SE032T002</td>\n",
       "      <td>2019-01-01</td>\n",
       "      <td>4</td>\n",
       "      <td>48.56</td>\n",
       "      <td>33.78271</td>\n",
       "      <td>BA S/E CANDELARIA B1 - 220KV</td>\n",
       "      <td>BA S/E CANDELARIA B1 - 220KV</td>\n",
       "      <td>49.854087</td>\n",
       "      <td>-1.294087</td>\n",
       "      <td>-2.664924</td>\n",
       "      <td>0</td>\n",
       "    </tr>\n",
       "    <tr>\n",
       "      <th>185370</th>\n",
       "      <td>BA01G004SE001T011</td>\n",
       "      <td>BA02T002SE032T002</td>\n",
       "      <td>2019-01-01</td>\n",
       "      <td>5</td>\n",
       "      <td>46.51</td>\n",
       "      <td>32.35654</td>\n",
       "      <td>BA S/E CANDELARIA B1 - 220KV</td>\n",
       "      <td>BA S/E CANDELARIA B1 - 220KV</td>\n",
       "      <td>49.854087</td>\n",
       "      <td>-3.344087</td>\n",
       "      <td>-7.190039</td>\n",
       "      <td>0</td>\n",
       "    </tr>\n",
       "    <tr>\n",
       "      <th>...</th>\n",
       "      <td>...</td>\n",
       "      <td>...</td>\n",
       "      <td>...</td>\n",
       "      <td>...</td>\n",
       "      <td>...</td>\n",
       "      <td>...</td>\n",
       "      <td>...</td>\n",
       "      <td>...</td>\n",
       "      <td>...</td>\n",
       "      <td>...</td>\n",
       "      <td>...</td>\n",
       "      <td>...</td>\n",
       "    </tr>\n",
       "    <tr>\n",
       "      <th>756069</th>\n",
       "      <td>BA99L117SE054L117</td>\n",
       "      <td>BA02T002SE032T002</td>\n",
       "      <td>2019-06-30</td>\n",
       "      <td>20</td>\n",
       "      <td>47.79</td>\n",
       "      <td>32.49051</td>\n",
       "      <td>BA S/E COLLAHUASI 220KV-BP1</td>\n",
       "      <td>BA S/E COLLAHUASI 220KV-BP1</td>\n",
       "      <td>46.800602</td>\n",
       "      <td>0.989398</td>\n",
       "      <td>2.070304</td>\n",
       "      <td>0</td>\n",
       "    </tr>\n",
       "    <tr>\n",
       "      <th>794030</th>\n",
       "      <td>BA99L117SE054L117</td>\n",
       "      <td>BA02T002SE032T002</td>\n",
       "      <td>2019-06-30</td>\n",
       "      <td>21</td>\n",
       "      <td>47.79</td>\n",
       "      <td>32.49051</td>\n",
       "      <td>BA S/E COLLAHUASI 220KV-BP1</td>\n",
       "      <td>BA S/E COLLAHUASI 220KV-BP1</td>\n",
       "      <td>48.607941</td>\n",
       "      <td>-0.817941</td>\n",
       "      <td>-1.711531</td>\n",
       "      <td>0</td>\n",
       "    </tr>\n",
       "    <tr>\n",
       "      <th>832100</th>\n",
       "      <td>BA99L117SE054L117</td>\n",
       "      <td>BA02T002SE032T002</td>\n",
       "      <td>2019-06-30</td>\n",
       "      <td>22</td>\n",
       "      <td>47.79</td>\n",
       "      <td>32.49051</td>\n",
       "      <td>BA S/E COLLAHUASI 220KV-BP1</td>\n",
       "      <td>BA S/E COLLAHUASI 220KV-BP1</td>\n",
       "      <td>48.537587</td>\n",
       "      <td>-0.747587</td>\n",
       "      <td>-1.564316</td>\n",
       "      <td>0</td>\n",
       "    </tr>\n",
       "    <tr>\n",
       "      <th>870153</th>\n",
       "      <td>BA99L117SE054L117</td>\n",
       "      <td>BA02T002SE032T002</td>\n",
       "      <td>2019-06-30</td>\n",
       "      <td>23</td>\n",
       "      <td>47.79</td>\n",
       "      <td>32.49051</td>\n",
       "      <td>BA S/E COLLAHUASI 220KV-BP1</td>\n",
       "      <td>BA S/E COLLAHUASI 220KV-BP1</td>\n",
       "      <td>47.783023</td>\n",
       "      <td>0.006977</td>\n",
       "      <td>0.014599</td>\n",
       "      <td>0</td>\n",
       "    </tr>\n",
       "    <tr>\n",
       "      <th>908243</th>\n",
       "      <td>BA99L117SE054L117</td>\n",
       "      <td>BA02T002SE032T002</td>\n",
       "      <td>2019-06-30</td>\n",
       "      <td>24</td>\n",
       "      <td>47.79</td>\n",
       "      <td>32.49051</td>\n",
       "      <td>BA S/E COLLAHUASI 220KV-BP1</td>\n",
       "      <td>BA S/E COLLAHUASI 220KV-BP1</td>\n",
       "      <td>43.563139</td>\n",
       "      <td>4.226861</td>\n",
       "      <td>8.844655</td>\n",
       "      <td>0</td>\n",
       "    </tr>\n",
       "  </tbody>\n",
       "</table>\n",
       "<p>913388 rows × 12 columns</p>\n",
       "</div>"
      ],
      "text/plain": [
       "       barra_mnemotecnico barra_referencia_mnemotecnico      fecha  hora  \\\n",
       "33176   BA01G004SE001T011             BA02T002SE032T002 2019-01-01     1   \n",
       "71356   BA01G004SE001T011             BA02T002SE032T002 2019-01-01     2   \n",
       "109429  BA01G004SE001T011             BA02T002SE032T002 2019-01-01     3   \n",
       "147309  BA01G004SE001T011             BA02T002SE032T002 2019-01-01     4   \n",
       "185370  BA01G004SE001T011             BA02T002SE032T002 2019-01-01     5   \n",
       "...                   ...                           ...        ...   ...   \n",
       "756069  BA99L117SE054L117             BA02T002SE032T002 2019-06-30    20   \n",
       "794030  BA99L117SE054L117             BA02T002SE032T002 2019-06-30    21   \n",
       "832100  BA99L117SE054L117             BA02T002SE032T002 2019-06-30    22   \n",
       "870153  BA99L117SE054L117             BA02T002SE032T002 2019-06-30    23   \n",
       "908243  BA99L117SE054L117             BA02T002SE032T002 2019-06-30    24   \n",
       "\n",
       "        costo_en_dolares  costo_en_pesos                        nombre  \\\n",
       "33176              50.41        35.06973  BA S/E CANDELARIA B1 - 220KV   \n",
       "71356              50.41        35.06973  BA S/E CANDELARIA B1 - 220KV   \n",
       "109429             49.40        34.36709  BA S/E CANDELARIA B1 - 220KV   \n",
       "147309             48.56        33.78271  BA S/E CANDELARIA B1 - 220KV   \n",
       "185370             46.51        32.35654  BA S/E CANDELARIA B1 - 220KV   \n",
       "...                  ...             ...                           ...   \n",
       "756069             47.79        32.49051   BA S/E COLLAHUASI 220KV-BP1   \n",
       "794030             47.79        32.49051   BA S/E COLLAHUASI 220KV-BP1   \n",
       "832100             47.79        32.49051   BA S/E COLLAHUASI 220KV-BP1   \n",
       "870153             47.79        32.49051   BA S/E COLLAHUASI 220KV-BP1   \n",
       "908243             47.79        32.49051   BA S/E COLLAHUASI 220KV-BP1   \n",
       "\n",
       "                        nombre_barra      costo  desviacion  desviacion_pct  \\\n",
       "33176   BA S/E CANDELARIA B1 - 220KV  50.116286    0.293714        0.582649   \n",
       "71356   BA S/E CANDELARIA B1 - 220KV  50.522836   -0.112836       -0.223836   \n",
       "109429  BA S/E CANDELARIA B1 - 220KV  50.119505   -0.719505       -1.456487   \n",
       "147309  BA S/E CANDELARIA B1 - 220KV  49.854087   -1.294087       -2.664924   \n",
       "185370  BA S/E CANDELARIA B1 - 220KV  49.854087   -3.344087       -7.190039   \n",
       "...                              ...        ...         ...             ...   \n",
       "756069   BA S/E COLLAHUASI 220KV-BP1  46.800602    0.989398        2.070304   \n",
       "794030   BA S/E COLLAHUASI 220KV-BP1  48.607941   -0.817941       -1.711531   \n",
       "832100   BA S/E COLLAHUASI 220KV-BP1  48.537587   -0.747587       -1.564316   \n",
       "870153   BA S/E COLLAHUASI 220KV-BP1  47.783023    0.006977        0.014599   \n",
       "908243   BA S/E COLLAHUASI 220KV-BP1  43.563139    4.226861        8.844655   \n",
       "\n",
       "        desviacion_cat  \n",
       "33176                0  \n",
       "71356                0  \n",
       "109429               0  \n",
       "147309               0  \n",
       "185370               0  \n",
       "...                ...  \n",
       "756069               0  \n",
       "794030               0  \n",
       "832100               0  \n",
       "870153               0  \n",
       "908243               0  \n",
       "\n",
       "[913388 rows x 12 columns]"
      ]
     },
     "execution_count": 51,
     "metadata": {},
     "output_type": "execute_result"
    }
   ],
   "source": [
    "#ordenamos los datos\n",
    "costo_marginal=costo_marginal.sort_values(['barra_mnemotecnico','fecha','hora'])\n",
    "costo_marginal"
   ]
  },
  {
   "cell_type": "code",
   "execution_count": 49,
   "metadata": {},
   "outputs": [
    {
     "data": {
      "text/plain": [
       "<seaborn.axisgrid.FacetGrid at 0x17b99f739d0>"
      ]
     },
     "execution_count": 49,
     "metadata": {},
     "output_type": "execute_result"
    },
    {
     "data": {
      "text/plain": [
       "<Figure size 864x432 with 0 Axes>"
      ]
     },
     "metadata": {},
     "output_type": "display_data"
    },
    {
     "data": {
      "image/png": "[encoded data removed]",
      "text/plain": [
       "<Figure size 360x360 with 1 Axes>"
      ]
     },
     "metadata": {
      "needs_background": "light"
     },
     "output_type": "display_data"
    }
   ],
   "source": [
    "plt.figure(figsize=(12,6))\n",
    "sns.relplot(x = 'fecha', y = \"desviacion_cat\",data = costo_marginal)"
   ]
  },
  {
   "cell_type": "code",
   "execution_count": 52,
   "metadata": {},
   "outputs": [
    {
     "data": {
      "text/plain": [
       "0    665213\n",
       "1    248175\n",
       "Name: desviacion_cat, dtype: int64"
      ]
     },
     "execution_count": 52,
     "metadata": {},
     "output_type": "execute_result"
    }
   ],
   "source": [
    "costo_marginal['desviacion_cat'].value_counts()"
   ]
  },
  {
   "cell_type": "code",
   "execution_count": null,
   "metadata": {},
   "outputs": [],
   "source": [
    "#La variable 'desviacion_cat' indica en el caso del 1 es que la desviacion en porcentaje\n",
    "#del costo marginal real y programado sea mayor a 15% lo se podia considerar \n",
    "#un número importante, asi que seguiria como que el 1 representa una desviacion significativa\n",
    "#y el 0 que no hubo desviación o no es tan dignificativa.\n",
    "\n",
    "#Según la grafica de arriba y el pequeño vistazo a los datps, podemos notar que \n",
    "#que puede ocurrir tener 0 tanto para la fecha más lejana como para la cercana,\n",
    "# así el cambio no parece depender del tiempo."
   ]
  },
  {
   "cell_type": "markdown",
   "metadata": {},
   "source": [
    "## Visualización de datos"
   ]
  },
  {
   "cell_type": "code",
   "execution_count": 61,
   "metadata": {},
   "outputs": [],
   "source": [
    "def time_plot_costo_barra(codigo_barra, fecha_inicial, fecha_final):\n",
    "    #Pasamos las fechas a datetime, para tenerlo en formato fecha\n",
    "    fecha_inicial=pd.to_datetime(fecha_inicial)\n",
    "    fecha_final=pd.to_datetime(fecha_final)\n",
    "    #la condición para obtener los datos que necesitamos, que pertenazcan a la barra dada y en el lapso \n",
    "    #que recibimos\n",
    "    cond=((costo_marginal['barra_mnemotecnico']==codigo_barra)& (costo_marginal['fecha']>= fecha_inicial) & (costo_marginal['fecha']<fecha_final))\n",
    "    df_cond=costo_marginal[cond]\n",
    "    ##ordenamos los datos para que no haya algo raro en la grafica\n",
    "    df_cond=df_cond.sort_values(['fecha','hora'])\n",
    "    #los datos que utilizaremos para el plot\n",
    "    cmg_real=df_cond['costo_en_dolares']\n",
    "    cmg_prog=df_cond['costo']\n",
    "    fechas_=df_cond['fecha']\n",
    "    \n",
    "    plt.figure(figsize=(14,8))\n",
    "    plt.plot(fechas_,cmg_real)\n",
    "    plt.plot(fechas_,cmg_prog)\n",
    "    plt.legend(['cmg_real','cmg_prog'])\n",
    "    plt.show()\n"
   ]
  },
  {
   "cell_type": "code",
   "execution_count": 62,
   "metadata": {},
   "outputs": [
    {
     "data": {
      "image/png": "[encoded data removed]",
      "text/plain": [
       "<Figure size 1008x576 with 1 Axes>"
      ]
     },
     "metadata": {
      "needs_background": "light"
     },
     "output_type": "display_data"
    }
   ],
   "source": [
    "codigo_de_barra='BA02T002SE032T002'\n",
    "fecha_ini='2019-01-05'\n",
    "fecha_fin='2019-06-15'\n",
    "time_plot_costo_barra(codigo_de_barra, fecha_ini, fecha_fin)"
   ]
  },
  {
   "cell_type": "code",
   "execution_count": 70,
   "metadata": {},
   "outputs": [
    {
     "data": {
      "image/png": "[encoded data removed]",
      "text/plain": [
       "<Figure size 1008x576 with 1 Axes>"
      ]
     },
     "metadata": {
      "needs_background": "light"
     },
     "output_type": "display_data"
    }
   ],
   "source": [
    "codigo_de_barra='BA02T005SE055T005'\n",
    "fecha_ini='2019-01-05'\n",
    "fecha_fin='2019-06-15'\n",
    "time_plot_costo_barra(codigo_de_barra, fecha_ini, fecha_fin)"
   ]
  },
  {
   "cell_type": "code",
   "execution_count": 66,
   "metadata": {},
   "outputs": [
    {
     "data": {
      "image/png": "[encoded data removed]",
      "text/plain": [
       "<Figure size 1008x576 with 1 Axes>"
      ]
     },
     "metadata": {
      "needs_background": "light"
     },
     "output_type": "display_data"
    }
   ],
   "source": [
    "codigo_de_barra='BA99L117SE054L117'\n",
    "fecha_ini='2019-01-05'\n",
    "fecha_fin='2019-06-15'\n",
    "time_plot_costo_barra(codigo_de_barra, fecha_ini, fecha_fin)"
   ]
  },
  {
   "cell_type": "code",
   "execution_count": null,
   "metadata": {},
   "outputs": [],
   "source": [
    "# En e caso de los primeros dos graficos son muy parecidos, con pequeños cambios por ejemplo en el\n",
    "#segundo al final de la curva los costos se parecian mucho, pero de repente en algún punto se se \n",
    "#que el costo marginal programado es muy alto en comparación con el real. Es las fechas de los extremos\n",
    "#parece que es donde hay mas parecido en cuanto los costos.\n",
    "\n",
    "#Ahora, viendo el caso del grafico 3 se diferencia mucho a los otros dos donde se veia claramente en ciertos\n",
    "#punto donde el costo marginal programado era superior al real y con gran difrencia, pues en este último\n",
    "#grafico podemos ver que hay valores negativos para los dos costos, pero en el caso del costo marginal \n",
    "#programado ocurre más veces que en el real, y del resto se observa que el costo marginal real esta\n",
    "#por encima del programado en la mayoria del transcurso de las fechas."
   ]
  },
  {
   "cell_type": "code",
   "execution_count": 73,
   "metadata": {},
   "outputs": [],
   "source": [
    "#El data set que contine los datos pero solo donde el costo marginal real es cero\n",
    "df_costo_cero=costo_marginal[costo_marginal['costo_en_dolares']==0]"
   ]
  },
  {
   "cell_type": "code",
   "execution_count": 74,
   "metadata": {},
   "outputs": [
    {
     "data": {
      "text/plain": [
       "BA01G049SE001G049    4345\n",
       "BA01T002SE014T002     581\n",
       "BA01T005SE284T005     524\n",
       "BA01G180SE001G180     199\n",
       "BA01T002SE028T002     199\n",
       "                     ... \n",
       "BA01T005SE067T005      14\n",
       "BA02T005SE067T005      14\n",
       "BA01G271SE002G271      11\n",
       "BA01T002SE025T002      11\n",
       "BA02T005SE127T005       6\n",
       "Name: barra_mnemotecnico, Length: 124, dtype: int64"
      ]
     },
     "execution_count": 74,
     "metadata": {},
     "output_type": "execute_result"
    }
   ],
   "source": [
    "df_costo_cero['barra_mnemotecnico'].value_counts()"
   ]
  },
  {
   "cell_type": "code",
   "execution_count": 75,
   "metadata": {},
   "outputs": [
    {
     "data": {
      "text/plain": [
       "4345"
      ]
     },
     "execution_count": 75,
     "metadata": {},
     "output_type": "execute_result"
    }
   ],
   "source": [
    "#como la cantidad de filas que hay de la barra 'BA01G049SE001G049' es tan alta probaremos si esta es la barra \n",
    "#que tiene costo marginal cero durante todos los dias\n",
    "len(costo_marginal[costo_marginal['barra_mnemotecnico'].isin(['BA01G049SE001G049'])])"
   ]
  },
  {
   "cell_type": "code",
   "execution_count": 76,
   "metadata": {},
   "outputs": [],
   "source": [
    "#como la cantidad de filas la barra 'BA01G049SE001G049' es la misma tanto para los datos completos,\n",
    "#como para los que tienen solo los costos marginales reales cero, entonces esta es la barra que buscabamos\n",
    "#ahora la eliminaremos del dataset"
   ]
  },
  {
   "cell_type": "code",
   "execution_count": 79,
   "metadata": {},
   "outputs": [
    {
     "data": {
      "text/html": [
       "<div>\n",
       "<style scoped>\n",
       "    .dataframe tbody tr th:only-of-type {\n",
       "        vertical-align: middle;\n",
       "    }\n",
       "\n",
       "    .dataframe tbody tr th {\n",
       "        vertical-align: top;\n",
       "    }\n",
       "\n",
       "    .dataframe thead th {\n",
       "        text-align: right;\n",
       "    }\n",
       "</style>\n",
       "<table border=\"1\" class=\"dataframe\">\n",
       "  <thead>\n",
       "    <tr style=\"text-align: right;\">\n",
       "      <th></th>\n",
       "      <th>barra_mnemotecnico</th>\n",
       "      <th>barra_referencia_mnemotecnico</th>\n",
       "      <th>fecha</th>\n",
       "      <th>hora</th>\n",
       "      <th>costo_en_dolares</th>\n",
       "      <th>costo_en_pesos</th>\n",
       "      <th>nombre</th>\n",
       "      <th>nombre_barra</th>\n",
       "      <th>costo</th>\n",
       "      <th>desviacion</th>\n",
       "      <th>desviacion_pct</th>\n",
       "      <th>desviacion_cat</th>\n",
       "    </tr>\n",
       "  </thead>\n",
       "  <tbody>\n",
       "    <tr>\n",
       "      <th>33176</th>\n",
       "      <td>BA01G004SE001T011</td>\n",
       "      <td>BA02T002SE032T002</td>\n",
       "      <td>2019-01-01</td>\n",
       "      <td>1</td>\n",
       "      <td>50.41</td>\n",
       "      <td>35.06973</td>\n",
       "      <td>BA S/E CANDELARIA B1 - 220KV</td>\n",
       "      <td>BA S/E CANDELARIA B1 - 220KV</td>\n",
       "      <td>50.116286</td>\n",
       "      <td>0.293714</td>\n",
       "      <td>0.582649</td>\n",
       "      <td>0</td>\n",
       "    </tr>\n",
       "    <tr>\n",
       "      <th>71356</th>\n",
       "      <td>BA01G004SE001T011</td>\n",
       "      <td>BA02T002SE032T002</td>\n",
       "      <td>2019-01-01</td>\n",
       "      <td>2</td>\n",
       "      <td>50.41</td>\n",
       "      <td>35.06973</td>\n",
       "      <td>BA S/E CANDELARIA B1 - 220KV</td>\n",
       "      <td>BA S/E CANDELARIA B1 - 220KV</td>\n",
       "      <td>50.522836</td>\n",
       "      <td>-0.112836</td>\n",
       "      <td>-0.223836</td>\n",
       "      <td>0</td>\n",
       "    </tr>\n",
       "    <tr>\n",
       "      <th>109429</th>\n",
       "      <td>BA01G004SE001T011</td>\n",
       "      <td>BA02T002SE032T002</td>\n",
       "      <td>2019-01-01</td>\n",
       "      <td>3</td>\n",
       "      <td>49.40</td>\n",
       "      <td>34.36709</td>\n",
       "      <td>BA S/E CANDELARIA B1 - 220KV</td>\n",
       "      <td>BA S/E CANDELARIA B1 - 220KV</td>\n",
       "      <td>50.119505</td>\n",
       "      <td>-0.719505</td>\n",
       "      <td>-1.456487</td>\n",
       "      <td>0</td>\n",
       "    </tr>\n",
       "    <tr>\n",
       "      <th>147309</th>\n",
       "      <td>BA01G004SE001T011</td>\n",
       "      <td>BA02T002SE032T002</td>\n",
       "      <td>2019-01-01</td>\n",
       "      <td>4</td>\n",
       "      <td>48.56</td>\n",
       "      <td>33.78271</td>\n",
       "      <td>BA S/E CANDELARIA B1 - 220KV</td>\n",
       "      <td>BA S/E CANDELARIA B1 - 220KV</td>\n",
       "      <td>49.854087</td>\n",
       "      <td>-1.294087</td>\n",
       "      <td>-2.664924</td>\n",
       "      <td>0</td>\n",
       "    </tr>\n",
       "    <tr>\n",
       "      <th>185370</th>\n",
       "      <td>BA01G004SE001T011</td>\n",
       "      <td>BA02T002SE032T002</td>\n",
       "      <td>2019-01-01</td>\n",
       "      <td>5</td>\n",
       "      <td>46.51</td>\n",
       "      <td>32.35654</td>\n",
       "      <td>BA S/E CANDELARIA B1 - 220KV</td>\n",
       "      <td>BA S/E CANDELARIA B1 - 220KV</td>\n",
       "      <td>49.854087</td>\n",
       "      <td>-3.344087</td>\n",
       "      <td>-7.190039</td>\n",
       "      <td>0</td>\n",
       "    </tr>\n",
       "    <tr>\n",
       "      <th>...</th>\n",
       "      <td>...</td>\n",
       "      <td>...</td>\n",
       "      <td>...</td>\n",
       "      <td>...</td>\n",
       "      <td>...</td>\n",
       "      <td>...</td>\n",
       "      <td>...</td>\n",
       "      <td>...</td>\n",
       "      <td>...</td>\n",
       "      <td>...</td>\n",
       "      <td>...</td>\n",
       "      <td>...</td>\n",
       "    </tr>\n",
       "    <tr>\n",
       "      <th>756069</th>\n",
       "      <td>BA99L117SE054L117</td>\n",
       "      <td>BA02T002SE032T002</td>\n",
       "      <td>2019-06-30</td>\n",
       "      <td>20</td>\n",
       "      <td>47.79</td>\n",
       "      <td>32.49051</td>\n",
       "      <td>BA S/E COLLAHUASI 220KV-BP1</td>\n",
       "      <td>BA S/E COLLAHUASI 220KV-BP1</td>\n",
       "      <td>46.800602</td>\n",
       "      <td>0.989398</td>\n",
       "      <td>2.070304</td>\n",
       "      <td>0</td>\n",
       "    </tr>\n",
       "    <tr>\n",
       "      <th>794030</th>\n",
       "      <td>BA99L117SE054L117</td>\n",
       "      <td>BA02T002SE032T002</td>\n",
       "      <td>2019-06-30</td>\n",
       "      <td>21</td>\n",
       "      <td>47.79</td>\n",
       "      <td>32.49051</td>\n",
       "      <td>BA S/E COLLAHUASI 220KV-BP1</td>\n",
       "      <td>BA S/E COLLAHUASI 220KV-BP1</td>\n",
       "      <td>48.607941</td>\n",
       "      <td>-0.817941</td>\n",
       "      <td>-1.711531</td>\n",
       "      <td>0</td>\n",
       "    </tr>\n",
       "    <tr>\n",
       "      <th>832100</th>\n",
       "      <td>BA99L117SE054L117</td>\n",
       "      <td>BA02T002SE032T002</td>\n",
       "      <td>2019-06-30</td>\n",
       "      <td>22</td>\n",
       "      <td>47.79</td>\n",
       "      <td>32.49051</td>\n",
       "      <td>BA S/E COLLAHUASI 220KV-BP1</td>\n",
       "      <td>BA S/E COLLAHUASI 220KV-BP1</td>\n",
       "      <td>48.537587</td>\n",
       "      <td>-0.747587</td>\n",
       "      <td>-1.564316</td>\n",
       "      <td>0</td>\n",
       "    </tr>\n",
       "    <tr>\n",
       "      <th>870153</th>\n",
       "      <td>BA99L117SE054L117</td>\n",
       "      <td>BA02T002SE032T002</td>\n",
       "      <td>2019-06-30</td>\n",
       "      <td>23</td>\n",
       "      <td>47.79</td>\n",
       "      <td>32.49051</td>\n",
       "      <td>BA S/E COLLAHUASI 220KV-BP1</td>\n",
       "      <td>BA S/E COLLAHUASI 220KV-BP1</td>\n",
       "      <td>47.783023</td>\n",
       "      <td>0.006977</td>\n",
       "      <td>0.014599</td>\n",
       "      <td>0</td>\n",
       "    </tr>\n",
       "    <tr>\n",
       "      <th>908243</th>\n",
       "      <td>BA99L117SE054L117</td>\n",
       "      <td>BA02T002SE032T002</td>\n",
       "      <td>2019-06-30</td>\n",
       "      <td>24</td>\n",
       "      <td>47.79</td>\n",
       "      <td>32.49051</td>\n",
       "      <td>BA S/E COLLAHUASI 220KV-BP1</td>\n",
       "      <td>BA S/E COLLAHUASI 220KV-BP1</td>\n",
       "      <td>43.563139</td>\n",
       "      <td>4.226861</td>\n",
       "      <td>8.844655</td>\n",
       "      <td>0</td>\n",
       "    </tr>\n",
       "  </tbody>\n",
       "</table>\n",
       "<p>909043 rows × 12 columns</p>\n",
       "</div>"
      ],
      "text/plain": [
       "       barra_mnemotecnico barra_referencia_mnemotecnico      fecha  hora  \\\n",
       "33176   BA01G004SE001T011             BA02T002SE032T002 2019-01-01     1   \n",
       "71356   BA01G004SE001T011             BA02T002SE032T002 2019-01-01     2   \n",
       "109429  BA01G004SE001T011             BA02T002SE032T002 2019-01-01     3   \n",
       "147309  BA01G004SE001T011             BA02T002SE032T002 2019-01-01     4   \n",
       "185370  BA01G004SE001T011             BA02T002SE032T002 2019-01-01     5   \n",
       "...                   ...                           ...        ...   ...   \n",
       "756069  BA99L117SE054L117             BA02T002SE032T002 2019-06-30    20   \n",
       "794030  BA99L117SE054L117             BA02T002SE032T002 2019-06-30    21   \n",
       "832100  BA99L117SE054L117             BA02T002SE032T002 2019-06-30    22   \n",
       "870153  BA99L117SE054L117             BA02T002SE032T002 2019-06-30    23   \n",
       "908243  BA99L117SE054L117             BA02T002SE032T002 2019-06-30    24   \n",
       "\n",
       "        costo_en_dolares  costo_en_pesos                        nombre  \\\n",
       "33176              50.41        35.06973  BA S/E CANDELARIA B1 - 220KV   \n",
       "71356              50.41        35.06973  BA S/E CANDELARIA B1 - 220KV   \n",
       "109429             49.40        34.36709  BA S/E CANDELARIA B1 - 220KV   \n",
       "147309             48.56        33.78271  BA S/E CANDELARIA B1 - 220KV   \n",
       "185370             46.51        32.35654  BA S/E CANDELARIA B1 - 220KV   \n",
       "...                  ...             ...                           ...   \n",
       "756069             47.79        32.49051   BA S/E COLLAHUASI 220KV-BP1   \n",
       "794030             47.79        32.49051   BA S/E COLLAHUASI 220KV-BP1   \n",
       "832100             47.79        32.49051   BA S/E COLLAHUASI 220KV-BP1   \n",
       "870153             47.79        32.49051   BA S/E COLLAHUASI 220KV-BP1   \n",
       "908243             47.79        32.49051   BA S/E COLLAHUASI 220KV-BP1   \n",
       "\n",
       "                        nombre_barra      costo  desviacion  desviacion_pct  \\\n",
       "33176   BA S/E CANDELARIA B1 - 220KV  50.116286    0.293714        0.582649   \n",
       "71356   BA S/E CANDELARIA B1 - 220KV  50.522836   -0.112836       -0.223836   \n",
       "109429  BA S/E CANDELARIA B1 - 220KV  50.119505   -0.719505       -1.456487   \n",
       "147309  BA S/E CANDELARIA B1 - 220KV  49.854087   -1.294087       -2.664924   \n",
       "185370  BA S/E CANDELARIA B1 - 220KV  49.854087   -3.344087       -7.190039   \n",
       "...                              ...        ...         ...             ...   \n",
       "756069   BA S/E COLLAHUASI 220KV-BP1  46.800602    0.989398        2.070304   \n",
       "794030   BA S/E COLLAHUASI 220KV-BP1  48.607941   -0.817941       -1.711531   \n",
       "832100   BA S/E COLLAHUASI 220KV-BP1  48.537587   -0.747587       -1.564316   \n",
       "870153   BA S/E COLLAHUASI 220KV-BP1  47.783023    0.006977        0.014599   \n",
       "908243   BA S/E COLLAHUASI 220KV-BP1  43.563139    4.226861        8.844655   \n",
       "\n",
       "        desviacion_cat  \n",
       "33176                0  \n",
       "71356                0  \n",
       "109429               0  \n",
       "147309               0  \n",
       "185370               0  \n",
       "...                ...  \n",
       "756069               0  \n",
       "794030               0  \n",
       "832100               0  \n",
       "870153               0  \n",
       "908243               0  \n",
       "\n",
       "[909043 rows x 12 columns]"
      ]
     },
     "execution_count": 79,
     "metadata": {},
     "output_type": "execute_result"
    }
   ],
   "source": [
    "costo_marginal=costo_marginal[~costo_marginal['barra_mnemotecnico'].isin(['BA01G049SE001G049'])]\n",
    "costo_marginal"
   ]
  },
  {
   "cell_type": "markdown",
   "metadata": {},
   "source": [
    "## Base para los modelos "
   ]
  },
  {
   "cell_type": "code",
   "execution_count": 2,
   "metadata": {},
   "outputs": [
    {
     "ename": "NameError",
     "evalue": "name 'pd' is not defined",
     "output_type": "error",
     "traceback": [
      "\u001b[1;31m---------------------------------------------------------------------------\u001b[0m",
      "\u001b[1;31mNameError\u001b[0m                                 Traceback (most recent call last)",
      "\u001b[1;32m<ipython-input-2-7c86f9e87760>\u001b[0m in \u001b[0;36m<module>\u001b[1;34m\u001b[0m\n\u001b[1;32m----> 1\u001b[1;33m \u001b[0mdf_pred\u001b[0m\u001b[1;33m=\u001b[0m\u001b[0mpd\u001b[0m\u001b[1;33m.\u001b[0m\u001b[0mread_csv\u001b[0m\u001b[1;33m(\u001b[0m\u001b[1;34m\"base_para_prediccion.csv\"\u001b[0m\u001b[1;33m)\u001b[0m\u001b[1;33m\u001b[0m\u001b[1;33m\u001b[0m\u001b[0m\n\u001b[0m\u001b[0;32m      2\u001b[0m \u001b[0mdf_pred\u001b[0m\u001b[1;33m.\u001b[0m\u001b[0mhead\u001b[0m\u001b[1;33m(\u001b[0m\u001b[1;33m)\u001b[0m\u001b[1;33m\u001b[0m\u001b[1;33m\u001b[0m\u001b[0m\n",
      "\u001b[1;31mNameError\u001b[0m: name 'pd' is not defined"
     ]
    }
   ],
   "source": [
    "df_pred=pd.read_csv(\"base_para_prediccion.csv\")\n",
    "df_pred.head()"
   ]
  },
  {
   "cell_type": "code",
   "execution_count": 3,
   "metadata": {},
   "outputs": [
    {
     "ename": "NameError",
     "evalue": "name 'df_pred' is not defined",
     "output_type": "error",
     "traceback": [
      "\u001b[1;31m---------------------------------------------------------------------------\u001b[0m",
      "\u001b[1;31mNameError\u001b[0m                                 Traceback (most recent call last)",
      "\u001b[1;32m<ipython-input-3-bc76fabb4e45>\u001b[0m in \u001b[0;36m<module>\u001b[1;34m\u001b[0m\n\u001b[1;32m----> 1\u001b[1;33m \u001b[0mdf_pred\u001b[0m\u001b[1;33m.\u001b[0m\u001b[0mdtypes\u001b[0m\u001b[1;33m\u001b[0m\u001b[1;33m\u001b[0m\u001b[0m\n\u001b[0m",
      "\u001b[1;31mNameError\u001b[0m: name 'df_pred' is not defined"
     ]
    }
   ],
   "source": [
    "df_pred.dtypes"
   ]
  },
  {
   "cell_type": "code",
   "execution_count": 4,
   "metadata": {},
   "outputs": [
    {
     "ename": "NameError",
     "evalue": "name 'df_pred' is not defined",
     "output_type": "error",
     "traceback": [
      "\u001b[1;31m---------------------------------------------------------------------------\u001b[0m",
      "\u001b[1;31mNameError\u001b[0m                                 Traceback (most recent call last)",
      "\u001b[1;32m<ipython-input-4-b56575c8a75f>\u001b[0m in \u001b[0;36m<module>\u001b[1;34m\u001b[0m\n\u001b[1;32m----> 1\u001b[1;33m \u001b[0mdf_pred\u001b[0m\u001b[1;33m.\u001b[0m\u001b[0mshape\u001b[0m\u001b[1;33m\u001b[0m\u001b[1;33m\u001b[0m\u001b[0m\n\u001b[0m",
      "\u001b[1;31mNameError\u001b[0m: name 'df_pred' is not defined"
     ]
    }
   ],
   "source": [
    "df_pred.shape"
   ]
  },
  {
   "cell_type": "code",
   "execution_count": 5,
   "metadata": {},
   "outputs": [
    {
     "ename": "NameError",
     "evalue": "name 'pd' is not defined",
     "output_type": "error",
     "traceback": [
      "\u001b[1;31m---------------------------------------------------------------------------\u001b[0m",
      "\u001b[1;31mNameError\u001b[0m                                 Traceback (most recent call last)",
      "\u001b[1;32m<ipython-input-5-4a5694fd25ed>\u001b[0m in \u001b[0;36m<module>\u001b[1;34m\u001b[0m\n\u001b[0;32m      1\u001b[0m \u001b[1;31m#Modificamos la columna fecha, para pasarla a formato de fechas\u001b[0m\u001b[1;33m\u001b[0m\u001b[1;33m\u001b[0m\u001b[1;33m\u001b[0m\u001b[0m\n\u001b[1;32m----> 2\u001b[1;33m \u001b[0mdf_pred\u001b[0m\u001b[1;33m[\u001b[0m\u001b[1;34m'fecha'\u001b[0m\u001b[1;33m]\u001b[0m\u001b[1;33m=\u001b[0m\u001b[0mpd\u001b[0m\u001b[1;33m.\u001b[0m\u001b[0mto_datetime\u001b[0m\u001b[1;33m(\u001b[0m\u001b[0mdf_pred\u001b[0m\u001b[1;33m[\u001b[0m\u001b[1;34m'fecha'\u001b[0m\u001b[1;33m]\u001b[0m\u001b[1;33m,\u001b[0m\u001b[0mformat\u001b[0m\u001b[1;33m=\u001b[0m\u001b[1;34m'%Y-%m-%d %H:%M:%S UTC'\u001b[0m\u001b[1;33m)\u001b[0m\u001b[1;33m\u001b[0m\u001b[1;33m\u001b[0m\u001b[0m\n\u001b[0m",
      "\u001b[1;31mNameError\u001b[0m: name 'pd' is not defined"
     ]
    }
   ],
   "source": [
    "#Modificamos la columna fecha, para pasarla a formato de fechas\n",
    "df_pred['fecha']=pd.to_datetime(df_pred['fecha'],format='%Y-%m-%d %H:%M:%S UTC')"
   ]
  },
  {
   "cell_type": "code",
   "execution_count": null,
   "metadata": {},
   "outputs": [],
   "source": []
  }
 ],
 "metadata": {
  "kernelspec": {
   "display_name": "Python 3",
   "language": "python",
   "name": "python3"
  },
  "language_info": {
   "codemirror_mode": {
    "name": "ipython",
    "version": 3
   },
   "file_extension": ".py",
   "mimetype": "text/x-python",
   "name": "python",
   "nbconvert_exporter": "python",
   "pygments_lexer": "ipython3",
   "version": "3.8.5"
  }
 },
 "nbformat": 4,
 "nbformat_minor": 4
}
